{
 "cells": [
  {
   "cell_type": "markdown",
   "metadata": {},
   "source": [
    "Problem Statement\n",
    "Recent Covid-19 Pandemic has raised alarms over one of the most overlooked area to focus: Healthcare Management. While healthcare management has various use cases for using data science, patient length of stay is one critical parameter to observe and predict if one wants to improve the efficiency of the healthcare management in a hospital.\n",
    "This parameter helps hospitals to identify patients of high LOS risk (patients who will stay longer) at the time of admission. Once identified, patients with high LOS risk can have their treatment plan optimized to miminize LOS and lower the chance of staff/visitor infection. Also, prior knowledge of LOS can aid in logistics such as room and bed allocation planning.\n",
    "i have been hired as Data Scientist to manage the functioning of Hospitals in a professional and optimal manner.\n",
    "The task is to accurately predict the Length of Stay for each patient on case by case basis so that the Hospitals can use this information for optimal resource allocation and better functioning. The length of stay is divided into 11 different classes ranging from 0-10 days to more than 100 days."
   ]
  },
  {
   "cell_type": "code",
   "execution_count": 105,
   "metadata": {
    "execution": {
     "iopub.execute_input": "2022-02-25T15:39:40.531529Z",
     "iopub.status.busy": "2022-02-25T15:39:40.530532Z",
     "iopub.status.idle": "2022-02-25T15:39:40.733621Z",
     "shell.execute_reply": "2022-02-25T15:39:40.732623Z",
     "shell.execute_reply.started": "2022-02-25T15:39:40.531529Z"
    },
    "id": "MTmI025l2IwQ",
    "tags": []
   },
   "outputs": [],
   "source": [
    "import pandas as pd\n",
    "import numpy as np\n",
    "from time import time\n",
    "import scikitplot as skplt\n",
    "import matplotlib.pyplot as plt\n",
    "import seaborn as sns\n",
    "import statistics\n",
    "import requests\n",
    "#from pandas_profiling import ProfileReport\n",
    "from sklearn.feature_selection import SelectKBest, SelectFromModel, chi2, mutual_info_classif\n",
    "from sklearn.model_selection import train_test_split,cross_val_predict, RandomizedSearchCV,StratifiedKFold\n",
    "from sklearn.metrics import accuracy_score,recall_score, confusion_matrix, classification_report, roc_curve, auc, plot_roc_curve, f1_score, roc_auc_score, balanced_accuracy_score,precision_score\n",
    "from sklearn.naive_bayes import GaussianNB,MultinomialNB\n",
    "from sklearn.preprocessing import StandardScaler,LabelEncoder\n",
    "from sklearn.linear_model import LogisticRegression,Perceptron,SGDClassifier\n",
    "from sklearn.svm import SVC, LinearSVC\n",
    "from sklearn.ensemble import RandomForestClassifier,GradientBoostingClassifier,AdaBoostClassifier\n",
    "from sklearn.neighbors import KNeighborsClassifier\n",
    "from sklearn.tree import DecisionTreeClassifier\n",
    "from sklearn.pipeline import Pipeline\n",
    "from imblearn.pipeline import make_pipeline as imbalanced_make_pipeline\n",
    "from imblearn.over_sampling import SMOTE\n",
    "import sklearn.metrics as metrics\n",
    "import shap\n",
    "%matplotlib inline\n",
    "sns.set_style(\"whitegrid\")\n",
    "plt.style.use(\"fivethirtyeight\")"
   ]
  },
  {
   "cell_type": "code",
   "execution_count": 2,
   "metadata": {
    "execution": {
     "iopub.execute_input": "2022-02-25T14:25:20.073792Z",
     "iopub.status.busy": "2022-02-25T14:25:20.073792Z",
     "iopub.status.idle": "2022-02-25T14:25:20.119847Z",
     "shell.execute_reply": "2022-02-25T14:25:20.119847Z",
     "shell.execute_reply.started": "2022-02-25T14:25:20.073792Z"
    },
    "tags": []
   },
   "outputs": [
    {
     "data": {
      "text/html": [
       "<div>\n",
       "<style scoped>\n",
       "    .dataframe tbody tr th:only-of-type {\n",
       "        vertical-align: middle;\n",
       "    }\n",
       "\n",
       "    .dataframe tbody tr th {\n",
       "        vertical-align: top;\n",
       "    }\n",
       "\n",
       "    .dataframe thead th {\n",
       "        text-align: right;\n",
       "    }\n",
       "</style>\n",
       "<table border=\"1\" class=\"dataframe\">\n",
       "  <thead>\n",
       "    <tr style=\"text-align: right;\">\n",
       "      <th></th>\n",
       "      <th>Column</th>\n",
       "      <th>Description</th>\n",
       "    </tr>\n",
       "  </thead>\n",
       "  <tbody>\n",
       "    <tr>\n",
       "      <th>0</th>\n",
       "      <td>case_id</td>\n",
       "      <td>Case_ID registered in Hospital</td>\n",
       "    </tr>\n",
       "    <tr>\n",
       "      <th>1</th>\n",
       "      <td>Hospital_code</td>\n",
       "      <td>Unique code for the Hospital</td>\n",
       "    </tr>\n",
       "    <tr>\n",
       "      <th>2</th>\n",
       "      <td>Hospital_type_code</td>\n",
       "      <td>Unique code for the type of Hospital</td>\n",
       "    </tr>\n",
       "    <tr>\n",
       "      <th>3</th>\n",
       "      <td>City_Code_Hospital</td>\n",
       "      <td>City Code of the Hospital</td>\n",
       "    </tr>\n",
       "    <tr>\n",
       "      <th>4</th>\n",
       "      <td>Hospital_region_code</td>\n",
       "      <td>Region Code of the Hospital</td>\n",
       "    </tr>\n",
       "    <tr>\n",
       "      <th>5</th>\n",
       "      <td>Available Extra Rooms in Hospital</td>\n",
       "      <td>Number of Extra rooms available in the Hospital</td>\n",
       "    </tr>\n",
       "    <tr>\n",
       "      <th>6</th>\n",
       "      <td>Department</td>\n",
       "      <td>Department overlooking the case</td>\n",
       "    </tr>\n",
       "    <tr>\n",
       "      <th>7</th>\n",
       "      <td>Ward_Type</td>\n",
       "      <td>Code for the Ward type</td>\n",
       "    </tr>\n",
       "    <tr>\n",
       "      <th>8</th>\n",
       "      <td>Ward_Facility_Code</td>\n",
       "      <td>Code for the Ward Facility</td>\n",
       "    </tr>\n",
       "    <tr>\n",
       "      <th>9</th>\n",
       "      <td>Bed Grade</td>\n",
       "      <td>Condition of Bed in the Ward</td>\n",
       "    </tr>\n",
       "    <tr>\n",
       "      <th>10</th>\n",
       "      <td>patientid</td>\n",
       "      <td>Unique Patient Id</td>\n",
       "    </tr>\n",
       "    <tr>\n",
       "      <th>11</th>\n",
       "      <td>City_Code_Patient</td>\n",
       "      <td>City Code for the patient</td>\n",
       "    </tr>\n",
       "    <tr>\n",
       "      <th>12</th>\n",
       "      <td>Type of Admission</td>\n",
       "      <td>Admission Type registered by the Hospital</td>\n",
       "    </tr>\n",
       "    <tr>\n",
       "      <th>13</th>\n",
       "      <td>Severity of Illness</td>\n",
       "      <td>Severity of the illness recorded at the time o...</td>\n",
       "    </tr>\n",
       "    <tr>\n",
       "      <th>14</th>\n",
       "      <td>Visitors with Patient</td>\n",
       "      <td>Number of Visitors with the patient</td>\n",
       "    </tr>\n",
       "    <tr>\n",
       "      <th>15</th>\n",
       "      <td>Age</td>\n",
       "      <td>Age of the patient</td>\n",
       "    </tr>\n",
       "    <tr>\n",
       "      <th>16</th>\n",
       "      <td>Admission_Deposit</td>\n",
       "      <td>Deposit at the Admission Time</td>\n",
       "    </tr>\n",
       "    <tr>\n",
       "      <th>17</th>\n",
       "      <td>Stay</td>\n",
       "      <td>Stay Days by the patient</td>\n",
       "    </tr>\n",
       "  </tbody>\n",
       "</table>\n",
       "</div>"
      ],
      "text/plain": [
       "                               Column  \\\n",
       "0                             case_id   \n",
       "1                       Hospital_code   \n",
       "2                  Hospital_type_code   \n",
       "3                  City_Code_Hospital   \n",
       "4                Hospital_region_code   \n",
       "5   Available Extra Rooms in Hospital   \n",
       "6                          Department   \n",
       "7                           Ward_Type   \n",
       "8                  Ward_Facility_Code   \n",
       "9                           Bed Grade   \n",
       "10                          patientid   \n",
       "11                  City_Code_Patient   \n",
       "12                  Type of Admission   \n",
       "13                Severity of Illness   \n",
       "14              Visitors with Patient   \n",
       "15                                Age   \n",
       "16                  Admission_Deposit   \n",
       "17                               Stay   \n",
       "\n",
       "                                          Description  \n",
       "0                      Case_ID registered in Hospital  \n",
       "1                        Unique code for the Hospital  \n",
       "2                Unique code for the type of Hospital  \n",
       "3                           City Code of the Hospital  \n",
       "4                         Region Code of the Hospital  \n",
       "5     Number of Extra rooms available in the Hospital  \n",
       "6                     Department overlooking the case  \n",
       "7                              Code for the Ward type  \n",
       "8                          Code for the Ward Facility  \n",
       "9                        Condition of Bed in the Ward  \n",
       "10                                  Unique Patient Id  \n",
       "11                          City Code for the patient  \n",
       "12          Admission Type registered by the Hospital  \n",
       "13  Severity of the illness recorded at the time o...  \n",
       "14                Number of Visitors with the patient  \n",
       "15                                 Age of the patient  \n",
       "16                      Deposit at the Admission Time  \n",
       "17                           Stay Days by the patient  "
      ]
     },
     "execution_count": 2,
     "metadata": {},
     "output_type": "execute_result"
    }
   ],
   "source": [
    "dictionary = pd.read_csv('train_data_dictionary.csv')\n",
    "dictionary"
   ]
  },
  {
   "cell_type": "code",
   "execution_count": 3,
   "metadata": {
    "colab": {
     "base_uri": "https://localhost:8080/",
     "height": 365
    },
    "execution": {
     "iopub.execute_input": "2022-02-25T14:25:20.123837Z",
     "iopub.status.busy": "2022-02-25T14:25:20.123837Z",
     "iopub.status.idle": "2022-02-25T14:25:20.998512Z",
     "shell.execute_reply": "2022-02-25T14:25:20.998512Z",
     "shell.execute_reply.started": "2022-02-25T14:25:20.123837Z"
    },
    "id": "-9z7_LAaBRlA",
    "outputId": "726b562e-2886-42d4-a7bf-60645964d799",
    "tags": []
   },
   "outputs": [
    {
     "data": {
      "text/html": [
       "<div>\n",
       "<style scoped>\n",
       "    .dataframe tbody tr th:only-of-type {\n",
       "        vertical-align: middle;\n",
       "    }\n",
       "\n",
       "    .dataframe tbody tr th {\n",
       "        vertical-align: top;\n",
       "    }\n",
       "\n",
       "    .dataframe thead th {\n",
       "        text-align: right;\n",
       "    }\n",
       "</style>\n",
       "<table border=\"1\" class=\"dataframe\">\n",
       "  <thead>\n",
       "    <tr style=\"text-align: right;\">\n",
       "      <th></th>\n",
       "      <th>case_id</th>\n",
       "      <th>Hospital_code</th>\n",
       "      <th>Hospital_type_code</th>\n",
       "      <th>City_Code_Hospital</th>\n",
       "      <th>Hospital_region_code</th>\n",
       "      <th>Available Extra Rooms in Hospital</th>\n",
       "      <th>Department</th>\n",
       "      <th>Ward_Type</th>\n",
       "      <th>Ward_Facility_Code</th>\n",
       "      <th>Bed Grade</th>\n",
       "      <th>patientid</th>\n",
       "      <th>City_Code_Patient</th>\n",
       "      <th>Type of Admission</th>\n",
       "      <th>Severity of Illness</th>\n",
       "      <th>Visitors with Patient</th>\n",
       "      <th>Age</th>\n",
       "      <th>Admission_Deposit</th>\n",
       "      <th>Stay</th>\n",
       "    </tr>\n",
       "  </thead>\n",
       "  <tbody>\n",
       "    <tr>\n",
       "      <th>0</th>\n",
       "      <td>1</td>\n",
       "      <td>8</td>\n",
       "      <td>c</td>\n",
       "      <td>3</td>\n",
       "      <td>Z</td>\n",
       "      <td>3</td>\n",
       "      <td>radiotherapy</td>\n",
       "      <td>R</td>\n",
       "      <td>F</td>\n",
       "      <td>2.0</td>\n",
       "      <td>31397</td>\n",
       "      <td>7.0</td>\n",
       "      <td>Emergency</td>\n",
       "      <td>Extreme</td>\n",
       "      <td>2</td>\n",
       "      <td>51-60</td>\n",
       "      <td>4911.0</td>\n",
       "      <td>0-10</td>\n",
       "    </tr>\n",
       "    <tr>\n",
       "      <th>1</th>\n",
       "      <td>2</td>\n",
       "      <td>2</td>\n",
       "      <td>c</td>\n",
       "      <td>5</td>\n",
       "      <td>Z</td>\n",
       "      <td>2</td>\n",
       "      <td>radiotherapy</td>\n",
       "      <td>S</td>\n",
       "      <td>F</td>\n",
       "      <td>2.0</td>\n",
       "      <td>31397</td>\n",
       "      <td>7.0</td>\n",
       "      <td>Trauma</td>\n",
       "      <td>Extreme</td>\n",
       "      <td>2</td>\n",
       "      <td>51-60</td>\n",
       "      <td>5954.0</td>\n",
       "      <td>41-50</td>\n",
       "    </tr>\n",
       "    <tr>\n",
       "      <th>2</th>\n",
       "      <td>3</td>\n",
       "      <td>10</td>\n",
       "      <td>e</td>\n",
       "      <td>1</td>\n",
       "      <td>X</td>\n",
       "      <td>2</td>\n",
       "      <td>anesthesia</td>\n",
       "      <td>S</td>\n",
       "      <td>E</td>\n",
       "      <td>2.0</td>\n",
       "      <td>31397</td>\n",
       "      <td>7.0</td>\n",
       "      <td>Trauma</td>\n",
       "      <td>Extreme</td>\n",
       "      <td>2</td>\n",
       "      <td>51-60</td>\n",
       "      <td>4745.0</td>\n",
       "      <td>31-40</td>\n",
       "    </tr>\n",
       "    <tr>\n",
       "      <th>3</th>\n",
       "      <td>4</td>\n",
       "      <td>26</td>\n",
       "      <td>b</td>\n",
       "      <td>2</td>\n",
       "      <td>Y</td>\n",
       "      <td>2</td>\n",
       "      <td>radiotherapy</td>\n",
       "      <td>R</td>\n",
       "      <td>D</td>\n",
       "      <td>2.0</td>\n",
       "      <td>31397</td>\n",
       "      <td>7.0</td>\n",
       "      <td>Trauma</td>\n",
       "      <td>Extreme</td>\n",
       "      <td>2</td>\n",
       "      <td>51-60</td>\n",
       "      <td>7272.0</td>\n",
       "      <td>41-50</td>\n",
       "    </tr>\n",
       "    <tr>\n",
       "      <th>4</th>\n",
       "      <td>5</td>\n",
       "      <td>26</td>\n",
       "      <td>b</td>\n",
       "      <td>2</td>\n",
       "      <td>Y</td>\n",
       "      <td>2</td>\n",
       "      <td>radiotherapy</td>\n",
       "      <td>S</td>\n",
       "      <td>D</td>\n",
       "      <td>2.0</td>\n",
       "      <td>31397</td>\n",
       "      <td>7.0</td>\n",
       "      <td>Trauma</td>\n",
       "      <td>Extreme</td>\n",
       "      <td>2</td>\n",
       "      <td>51-60</td>\n",
       "      <td>5558.0</td>\n",
       "      <td>41-50</td>\n",
       "    </tr>\n",
       "  </tbody>\n",
       "</table>\n",
       "</div>"
      ],
      "text/plain": [
       "   case_id  Hospital_code Hospital_type_code  City_Code_Hospital  \\\n",
       "0        1              8                  c                   3   \n",
       "1        2              2                  c                   5   \n",
       "2        3             10                  e                   1   \n",
       "3        4             26                  b                   2   \n",
       "4        5             26                  b                   2   \n",
       "\n",
       "  Hospital_region_code  Available Extra Rooms in Hospital    Department  \\\n",
       "0                    Z                                  3  radiotherapy   \n",
       "1                    Z                                  2  radiotherapy   \n",
       "2                    X                                  2    anesthesia   \n",
       "3                    Y                                  2  radiotherapy   \n",
       "4                    Y                                  2  radiotherapy   \n",
       "\n",
       "  Ward_Type Ward_Facility_Code  Bed Grade  patientid  City_Code_Patient  \\\n",
       "0         R                  F        2.0      31397                7.0   \n",
       "1         S                  F        2.0      31397                7.0   \n",
       "2         S                  E        2.0      31397                7.0   \n",
       "3         R                  D        2.0      31397                7.0   \n",
       "4         S                  D        2.0      31397                7.0   \n",
       "\n",
       "  Type of Admission Severity of Illness  Visitors with Patient    Age  \\\n",
       "0         Emergency             Extreme                      2  51-60   \n",
       "1            Trauma             Extreme                      2  51-60   \n",
       "2            Trauma             Extreme                      2  51-60   \n",
       "3            Trauma             Extreme                      2  51-60   \n",
       "4            Trauma             Extreme                      2  51-60   \n",
       "\n",
       "   Admission_Deposit   Stay  \n",
       "0             4911.0   0-10  \n",
       "1             5954.0  41-50  \n",
       "2             4745.0  31-40  \n",
       "3             7272.0  41-50  \n",
       "4             5558.0  41-50  "
      ]
     },
     "execution_count": 3,
     "metadata": {},
     "output_type": "execute_result"
    }
   ],
   "source": [
    "data=pd.read_csv('train_data.csv')\n",
    "data.head()"
   ]
  },
  {
   "cell_type": "code",
   "execution_count": 4,
   "metadata": {
    "colab": {
     "base_uri": "https://localhost:8080/"
    },
    "execution": {
     "iopub.execute_input": "2022-02-25T14:25:21.001504Z",
     "iopub.status.busy": "2022-02-25T14:25:21.000507Z",
     "iopub.status.idle": "2022-02-25T14:25:21.735188Z",
     "shell.execute_reply": "2022-02-25T14:25:21.734191Z",
     "shell.execute_reply.started": "2022-02-25T14:25:21.000507Z"
    },
    "id": "pExcriK0BjTg",
    "outputId": "18221cd9-8c8b-4a41-9ac4-8fae3b9a1b17",
    "tags": []
   },
   "outputs": [
    {
     "name": "stdout",
     "output_type": "stream",
     "text": [
      "<class 'pandas.core.frame.DataFrame'>\n",
      "RangeIndex: 318438 entries, 0 to 318437\n",
      "Data columns (total 18 columns):\n",
      " #   Column                             Non-Null Count   Dtype  \n",
      "---  ------                             --------------   -----  \n",
      " 0   case_id                            318438 non-null  int64  \n",
      " 1   Hospital_code                      318438 non-null  int64  \n",
      " 2   Hospital_type_code                 318438 non-null  object \n",
      " 3   City_Code_Hospital                 318438 non-null  int64  \n",
      " 4   Hospital_region_code               318438 non-null  object \n",
      " 5   Available Extra Rooms in Hospital  318438 non-null  int64  \n",
      " 6   Department                         318438 non-null  object \n",
      " 7   Ward_Type                          318438 non-null  object \n",
      " 8   Ward_Facility_Code                 318438 non-null  object \n",
      " 9   Bed Grade                          318325 non-null  float64\n",
      " 10  patientid                          318438 non-null  int64  \n",
      " 11  City_Code_Patient                  313906 non-null  float64\n",
      " 12  Type of Admission                  318438 non-null  object \n",
      " 13  Severity of Illness                318438 non-null  object \n",
      " 14  Visitors with Patient              318438 non-null  int64  \n",
      " 15  Age                                318438 non-null  object \n",
      " 16  Admission_Deposit                  318438 non-null  float64\n",
      " 17  Stay                               318438 non-null  object \n",
      "dtypes: float64(3), int64(6), object(9)\n",
      "memory usage: 43.7+ MB\n"
     ]
    }
   ],
   "source": [
    "data.info()"
   ]
  },
  {
   "cell_type": "code",
   "execution_count": 5,
   "metadata": {
    "colab": {
     "base_uri": "https://localhost:8080/",
     "height": 300
    },
    "execution": {
     "iopub.execute_input": "2022-02-25T14:25:21.737183Z",
     "iopub.status.busy": "2022-02-25T14:25:21.736185Z",
     "iopub.status.idle": "2022-02-25T14:25:21.890206Z",
     "shell.execute_reply": "2022-02-25T14:25:21.889207Z",
     "shell.execute_reply.started": "2022-02-25T14:25:21.737183Z"
    },
    "id": "ylrAtW3YBja3",
    "outputId": "7e712940-9824-474b-c17d-da5e8a0bf6a5",
    "tags": []
   },
   "outputs": [
    {
     "data": {
      "text/html": [
       "<div>\n",
       "<style scoped>\n",
       "    .dataframe tbody tr th:only-of-type {\n",
       "        vertical-align: middle;\n",
       "    }\n",
       "\n",
       "    .dataframe tbody tr th {\n",
       "        vertical-align: top;\n",
       "    }\n",
       "\n",
       "    .dataframe thead th {\n",
       "        text-align: right;\n",
       "    }\n",
       "</style>\n",
       "<table border=\"1\" class=\"dataframe\">\n",
       "  <thead>\n",
       "    <tr style=\"text-align: right;\">\n",
       "      <th></th>\n",
       "      <th>case_id</th>\n",
       "      <th>Hospital_code</th>\n",
       "      <th>City_Code_Hospital</th>\n",
       "      <th>Available Extra Rooms in Hospital</th>\n",
       "      <th>Bed Grade</th>\n",
       "      <th>patientid</th>\n",
       "      <th>City_Code_Patient</th>\n",
       "      <th>Visitors with Patient</th>\n",
       "      <th>Admission_Deposit</th>\n",
       "    </tr>\n",
       "  </thead>\n",
       "  <tbody>\n",
       "    <tr>\n",
       "      <th>count</th>\n",
       "      <td>318438.000000</td>\n",
       "      <td>318438.000000</td>\n",
       "      <td>318438.000000</td>\n",
       "      <td>318438.000000</td>\n",
       "      <td>318325.000000</td>\n",
       "      <td>318438.000000</td>\n",
       "      <td>313906.000000</td>\n",
       "      <td>318438.000000</td>\n",
       "      <td>318438.000000</td>\n",
       "    </tr>\n",
       "    <tr>\n",
       "      <th>mean</th>\n",
       "      <td>159219.500000</td>\n",
       "      <td>18.318841</td>\n",
       "      <td>4.771717</td>\n",
       "      <td>3.197627</td>\n",
       "      <td>2.625807</td>\n",
       "      <td>65747.579472</td>\n",
       "      <td>7.251859</td>\n",
       "      <td>3.284099</td>\n",
       "      <td>4880.749392</td>\n",
       "    </tr>\n",
       "    <tr>\n",
       "      <th>std</th>\n",
       "      <td>91925.276847</td>\n",
       "      <td>8.633755</td>\n",
       "      <td>3.102535</td>\n",
       "      <td>1.168171</td>\n",
       "      <td>0.873146</td>\n",
       "      <td>37979.936440</td>\n",
       "      <td>4.745266</td>\n",
       "      <td>1.764061</td>\n",
       "      <td>1086.776254</td>\n",
       "    </tr>\n",
       "    <tr>\n",
       "      <th>min</th>\n",
       "      <td>1.000000</td>\n",
       "      <td>1.000000</td>\n",
       "      <td>1.000000</td>\n",
       "      <td>0.000000</td>\n",
       "      <td>1.000000</td>\n",
       "      <td>1.000000</td>\n",
       "      <td>1.000000</td>\n",
       "      <td>0.000000</td>\n",
       "      <td>1800.000000</td>\n",
       "    </tr>\n",
       "    <tr>\n",
       "      <th>25%</th>\n",
       "      <td>79610.250000</td>\n",
       "      <td>11.000000</td>\n",
       "      <td>2.000000</td>\n",
       "      <td>2.000000</td>\n",
       "      <td>2.000000</td>\n",
       "      <td>32847.000000</td>\n",
       "      <td>4.000000</td>\n",
       "      <td>2.000000</td>\n",
       "      <td>4186.000000</td>\n",
       "    </tr>\n",
       "    <tr>\n",
       "      <th>50%</th>\n",
       "      <td>159219.500000</td>\n",
       "      <td>19.000000</td>\n",
       "      <td>5.000000</td>\n",
       "      <td>3.000000</td>\n",
       "      <td>3.000000</td>\n",
       "      <td>65724.500000</td>\n",
       "      <td>8.000000</td>\n",
       "      <td>3.000000</td>\n",
       "      <td>4741.000000</td>\n",
       "    </tr>\n",
       "    <tr>\n",
       "      <th>75%</th>\n",
       "      <td>238828.750000</td>\n",
       "      <td>26.000000</td>\n",
       "      <td>7.000000</td>\n",
       "      <td>4.000000</td>\n",
       "      <td>3.000000</td>\n",
       "      <td>98470.000000</td>\n",
       "      <td>8.000000</td>\n",
       "      <td>4.000000</td>\n",
       "      <td>5409.000000</td>\n",
       "    </tr>\n",
       "    <tr>\n",
       "      <th>max</th>\n",
       "      <td>318438.000000</td>\n",
       "      <td>32.000000</td>\n",
       "      <td>13.000000</td>\n",
       "      <td>24.000000</td>\n",
       "      <td>4.000000</td>\n",
       "      <td>131624.000000</td>\n",
       "      <td>38.000000</td>\n",
       "      <td>32.000000</td>\n",
       "      <td>11008.000000</td>\n",
       "    </tr>\n",
       "  </tbody>\n",
       "</table>\n",
       "</div>"
      ],
      "text/plain": [
       "             case_id  Hospital_code  City_Code_Hospital  \\\n",
       "count  318438.000000  318438.000000       318438.000000   \n",
       "mean   159219.500000      18.318841            4.771717   \n",
       "std     91925.276847       8.633755            3.102535   \n",
       "min         1.000000       1.000000            1.000000   \n",
       "25%     79610.250000      11.000000            2.000000   \n",
       "50%    159219.500000      19.000000            5.000000   \n",
       "75%    238828.750000      26.000000            7.000000   \n",
       "max    318438.000000      32.000000           13.000000   \n",
       "\n",
       "       Available Extra Rooms in Hospital      Bed Grade      patientid  \\\n",
       "count                      318438.000000  318325.000000  318438.000000   \n",
       "mean                            3.197627       2.625807   65747.579472   \n",
       "std                             1.168171       0.873146   37979.936440   \n",
       "min                             0.000000       1.000000       1.000000   \n",
       "25%                             2.000000       2.000000   32847.000000   \n",
       "50%                             3.000000       3.000000   65724.500000   \n",
       "75%                             4.000000       3.000000   98470.000000   \n",
       "max                            24.000000       4.000000  131624.000000   \n",
       "\n",
       "       City_Code_Patient  Visitors with Patient  Admission_Deposit  \n",
       "count      313906.000000          318438.000000      318438.000000  \n",
       "mean            7.251859               3.284099        4880.749392  \n",
       "std             4.745266               1.764061        1086.776254  \n",
       "min             1.000000               0.000000        1800.000000  \n",
       "25%             4.000000               2.000000        4186.000000  \n",
       "50%             8.000000               3.000000        4741.000000  \n",
       "75%             8.000000               4.000000        5409.000000  \n",
       "max            38.000000              32.000000       11008.000000  "
      ]
     },
     "execution_count": 5,
     "metadata": {},
     "output_type": "execute_result"
    }
   ],
   "source": [
    "data.describe()"
   ]
  },
  {
   "cell_type": "code",
   "execution_count": 6,
   "metadata": {
    "colab": {
     "base_uri": "https://localhost:8080/"
    },
    "execution": {
     "iopub.execute_input": "2022-02-25T14:25:21.892199Z",
     "iopub.status.busy": "2022-02-25T14:25:21.891202Z",
     "iopub.status.idle": "2022-02-25T14:25:22.562983Z",
     "shell.execute_reply": "2022-02-25T14:25:22.562983Z",
     "shell.execute_reply.started": "2022-02-25T14:25:21.892199Z"
    },
    "id": "OMLDBHvYBjhH",
    "outputId": "9da6eef8-320d-46d9-8f7f-0e9558b498d5",
    "tags": []
   },
   "outputs": [
    {
     "data": {
      "text/plain": [
       "case_id                                 0\n",
       "Hospital_code                           0\n",
       "Hospital_type_code                      0\n",
       "City_Code_Hospital                      0\n",
       "Hospital_region_code                    0\n",
       "Available Extra Rooms in Hospital       0\n",
       "Department                              0\n",
       "Ward_Type                               0\n",
       "Ward_Facility_Code                      0\n",
       "Bed Grade                             113\n",
       "patientid                               0\n",
       "City_Code_Patient                    4532\n",
       "Type of Admission                       0\n",
       "Severity of Illness                     0\n",
       "Visitors with Patient                   0\n",
       "Age                                     0\n",
       "Admission_Deposit                       0\n",
       "Stay                                    0\n",
       "dtype: int64"
      ]
     },
     "execution_count": 6,
     "metadata": {},
     "output_type": "execute_result"
    }
   ],
   "source": [
    "data.isna().sum()"
   ]
  },
  {
   "cell_type": "markdown",
   "metadata": {
    "id": "cLe7WQ9QDF-E"
   },
   "source": [
    "**WE REPLACE  ΝΑΝ VALUES  MODE   'BED GRADE' & 'CITY CODE PATIENT'**"
   ]
  },
  {
   "cell_type": "code",
   "execution_count": 7,
   "metadata": {
    "execution": {
     "iopub.execute_input": "2022-02-25T14:25:22.562983Z",
     "iopub.status.busy": "2022-02-25T14:25:22.562983Z",
     "iopub.status.idle": "2022-02-25T14:25:23.128400Z",
     "shell.execute_reply": "2022-02-25T14:25:23.128400Z",
     "shell.execute_reply.started": "2022-02-25T14:25:22.562983Z"
    },
    "id": "N50dMtUaBvd8",
    "tags": []
   },
   "outputs": [],
   "source": [
    "data['Bed Grade'].fillna(statistics.mode(data['Bed Grade']),inplace=True)\n",
    "data['City_Code_Patient'].fillna(statistics.mode(data['City_Code_Patient']),inplace=True)"
   ]
  },
  {
   "cell_type": "code",
   "execution_count": 8,
   "metadata": {
    "colab": {
     "base_uri": "https://localhost:8080/"
    },
    "execution": {
     "iopub.execute_input": "2022-02-25T14:25:23.128400Z",
     "iopub.status.busy": "2022-02-25T14:25:23.128400Z",
     "iopub.status.idle": "2022-02-25T14:25:23.693039Z",
     "shell.execute_reply": "2022-02-25T14:25:23.693039Z",
     "shell.execute_reply.started": "2022-02-25T14:25:23.128400Z"
    },
    "id": "nn7UrZlDBzKr",
    "outputId": "9373de19-81d4-4bf2-e5fe-8d864f943cca",
    "tags": []
   },
   "outputs": [
    {
     "data": {
      "text/plain": [
       "case_id                              0\n",
       "Hospital_code                        0\n",
       "Hospital_type_code                   0\n",
       "City_Code_Hospital                   0\n",
       "Hospital_region_code                 0\n",
       "Available Extra Rooms in Hospital    0\n",
       "Department                           0\n",
       "Ward_Type                            0\n",
       "Ward_Facility_Code                   0\n",
       "Bed Grade                            0\n",
       "patientid                            0\n",
       "City_Code_Patient                    0\n",
       "Type of Admission                    0\n",
       "Severity of Illness                  0\n",
       "Visitors with Patient                0\n",
       "Age                                  0\n",
       "Admission_Deposit                    0\n",
       "Stay                                 0\n",
       "dtype: int64"
      ]
     },
     "execution_count": 8,
     "metadata": {},
     "output_type": "execute_result"
    }
   ],
   "source": [
    "data.isna().sum()"
   ]
  },
  {
   "cell_type": "markdown",
   "metadata": {
    "id": "Mg4EdZp8D2d8"
   },
   "source": [
    "**WE OBSERVE THE MOST PATIENTS ENTRIES ARE ON  21-30 AND 11-20**"
   ]
  },
  {
   "cell_type": "code",
   "execution_count": 9,
   "metadata": {
    "colab": {
     "base_uri": "https://localhost:8080/",
     "height": 742
    },
    "execution": {
     "iopub.execute_input": "2022-02-25T14:25:23.698025Z",
     "iopub.status.busy": "2022-02-25T14:25:23.698025Z",
     "iopub.status.idle": "2022-02-25T14:25:24.173109Z",
     "shell.execute_reply": "2022-02-25T14:25:24.173109Z",
     "shell.execute_reply.started": "2022-02-25T14:25:23.698025Z"
    },
    "id": "gS3RWFKVBzZR",
    "outputId": "6b57280b-2123-4510-cdb5-c16b31faa52c",
    "tags": []
   },
   "outputs": [
    {
     "name": "stdout",
     "output_type": "stream",
     "text": [
      "21-30                 87491\n",
      "11-20                 78139\n",
      "31-40                 55159\n",
      "51-60                 35018\n",
      "0-10                  23604\n",
      "41-50                 11743\n",
      "71-80                 10254\n",
      "More than 100 Days     6683\n",
      "81-90                  4838\n",
      "91-100                 2765\n",
      "61-70                  2744\n",
      "Name: Stay, dtype: int64\n"
     ]
    },
    {
     "data": {
      "text/plain": [
       "<AxesSubplot:>"
      ]
     },
     "execution_count": 9,
     "metadata": {},
     "output_type": "execute_result"
    },
    {
     "data": {
      "image/png": "[encoded data removed]",
      "text/plain": [
       "<Figure size 720x504 with 1 Axes>"
      ]
     },
     "metadata": {},
     "output_type": "display_data"
    }
   ],
   "source": [
    "# Distribution of target feature\n",
    "print(data.Stay.value_counts())\n",
    "plt.figure(figsize=(10,7))\n",
    "data.Stay.value_counts().plot(kind=\"bar\", color = ['Salmon'])"
   ]
  },
  {
   "cell_type": "code",
   "execution_count": 10,
   "metadata": {
    "colab": {
     "base_uri": "https://localhost:8080/"
    },
    "execution": {
     "iopub.execute_input": "2022-02-25T14:25:24.176101Z",
     "iopub.status.busy": "2022-02-25T14:25:24.175104Z",
     "iopub.status.idle": "2022-02-25T14:25:24.456991Z",
     "shell.execute_reply": "2022-02-25T14:25:24.456991Z",
     "shell.execute_reply.started": "2022-02-25T14:25:24.176101Z"
    },
    "id": "STm6zwQrB8MN",
    "outputId": "b27b6573-28ae-4bba-80a8-1ce5a7dd0b19",
    "tags": []
   },
   "outputs": [
    {
     "name": "stdout",
     "output_type": "stream",
     "text": [
      "Unique Values for case_id\n",
      "[     1      2      3 ... 318436 318437 318438]\n",
      "======================================\n",
      "\n",
      "Unique Values for Hospital_code\n",
      "[ 8  2 10 26 23 32  1 22 16  9  6 29 12  3 21 28 27 19  5 14 13 31 24 17\n",
      " 25 15 11 30 18  4  7 20]\n",
      "======================================\n",
      "\n",
      "Unique Values for Hospital_type_code\n",
      "['c' 'e' 'b' 'a' 'f' 'd' 'g']\n",
      "======================================\n",
      "\n",
      "Unique Values for City_Code_Hospital\n",
      "[ 3  5  1  2  6  9 10  4 11  7 13]\n",
      "======================================\n",
      "\n",
      "Unique Values for Hospital_region_code\n",
      "['Z' 'X' 'Y']\n",
      "======================================\n",
      "\n",
      "Unique Values for Available Extra Rooms in Hospital\n",
      "[ 3  2  1  4  6  5  7  8  9 10 12  0 11 20 14 21 13 24]\n",
      "======================================\n",
      "\n",
      "Unique Values for Department\n",
      "['radiotherapy' 'anesthesia' 'gynecology' 'TB & Chest disease' 'surgery']\n",
      "======================================\n",
      "\n",
      "Unique Values for Ward_Type\n",
      "['R' 'S' 'Q' 'P' 'T' 'U']\n",
      "======================================\n",
      "\n",
      "Unique Values for Ward_Facility_Code\n",
      "['F' 'E' 'D' 'B' 'A' 'C']\n",
      "======================================\n",
      "\n",
      "Unique Values for Bed Grade\n",
      "[2. 3. 4. 1.]\n",
      "======================================\n",
      "\n",
      "Unique Values for patientid\n",
      "[ 31397  63418   8088 ... 125235  91081  21641]\n",
      "======================================\n",
      "\n",
      "Unique Values for City_Code_Patient\n",
      "[ 7.  8.  2.  5.  6.  3.  4.  1.  9. 14. 25. 15. 12. 10. 28. 24. 23. 20.\n",
      " 11. 13. 21. 18. 16. 26. 27. 22. 19. 31. 34. 32. 30. 29. 37. 33. 35. 36.\n",
      " 38.]\n",
      "======================================\n",
      "\n",
      "Unique Values for Type of Admission\n",
      "['Emergency' 'Trauma' 'Urgent']\n",
      "======================================\n",
      "\n",
      "Unique Values for Severity of Illness\n",
      "['Extreme' 'Moderate' 'Minor']\n",
      "======================================\n",
      "\n",
      "Unique Values for Visitors with Patient\n",
      "[ 2  4  3  8  6  7 13  5  1 10 15 11 12  9 24 16 14 20  0 19 18 17 23 21\n",
      " 32 30 22 25]\n",
      "======================================\n",
      "\n",
      "Unique Values for Age\n",
      "['51-60' '71-80' '31-40' '41-50' '81-90' '61-70' '21-30' '11-20' '0-10'\n",
      " '91-100']\n",
      "======================================\n",
      "\n",
      "Unique Values for Admission_Deposit\n",
      "[4911. 5954. 4745. ... 1937. 9439. 2349.]\n",
      "======================================\n",
      "\n",
      "Unique Values for Stay\n",
      "['0-10' '41-50' '31-40' '11-20' '51-60' '21-30' '71-80'\n",
      " 'More than 100 Days' '81-90' '61-70' '91-100']\n",
      "======================================\n",
      "\n"
     ]
    }
   ],
   "source": [
    "# Check for unique values in every column\n",
    "for features in data.columns:\n",
    "    print('Unique Values for {}'.format(features))\n",
    "    print(data[features].unique())\n",
    "    print('======================================')\n",
    "    print()"
   ]
  },
  {
   "cell_type": "markdown",
   "metadata": {
    "id": "KGthFtnkCFgK"
   },
   "source": [
    "## **Data Processing & Feature engineering**\n"
   ]
  },
  {
   "cell_type": "markdown",
   "metadata": {
    "id": "6i4RfQGPEVdT"
   },
   "source": [
    "#### WE DROP THESE COLUMNS FROM THE DATA"
   ]
  },
  {
   "cell_type": "code",
   "execution_count": 11,
   "metadata": {
    "execution": {
     "iopub.execute_input": "2022-02-25T14:25:24.459982Z",
     "iopub.status.busy": "2022-02-25T14:25:24.458984Z",
     "iopub.status.idle": "2022-02-25T14:25:24.521817Z",
     "shell.execute_reply": "2022-02-25T14:25:24.520834Z",
     "shell.execute_reply.started": "2022-02-25T14:25:24.459982Z"
    },
    "id": "PnbxPdBvB9tU",
    "tags": []
   },
   "outputs": [],
   "source": [
    "data = data.drop(['Hospital_region_code', 'Bed Grade', 'patientid','case_id', 'City_Code_Patient'], axis = 1)"
   ]
  },
  {
   "cell_type": "markdown",
   "metadata": {
    "id": "4FXWrWBlEw1D"
   },
   "source": [
    "#### WE APPLY LABEL ENCODER  "
   ]
  },
  {
   "cell_type": "code",
   "execution_count": 12,
   "metadata": {
    "execution": {
     "iopub.execute_input": "2022-02-25T14:25:24.523811Z",
     "iopub.status.busy": "2022-02-25T14:25:24.522814Z",
     "iopub.status.idle": "2022-02-25T14:25:25.154210Z",
     "shell.execute_reply": "2022-02-25T14:25:25.154210Z",
     "shell.execute_reply.started": "2022-02-25T14:25:24.523811Z"
    },
    "id": "f7CxCiBHCJvG",
    "tags": []
   },
   "outputs": [],
   "source": [
    "label = LabelEncoder()\n",
    "data['Department'] = label.fit_transform(data['Department'])\n",
    "data['Hospital_type_code'] = label.fit_transform(data['Hospital_type_code'])\n",
    "data['Ward_Facility_Code'] = label.fit_transform(data['Ward_Facility_Code'])\n",
    "data['Ward_Type'] = label.fit_transform(data['Ward_Type'])\n",
    "data['Type of Admission'] = label.fit_transform(data['Type of Admission'])\n",
    "data['Severity of Illness'] = label.fit_transform(data['Severity of Illness'])"
   ]
  },
  {
   "cell_type": "code",
   "execution_count": 13,
   "metadata": {
    "colab": {
     "base_uri": "https://localhost:8080/",
     "height": 279
    },
    "execution": {
     "iopub.execute_input": "2022-02-25T14:25:25.154210Z",
     "iopub.status.busy": "2022-02-25T14:25:25.154210Z",
     "iopub.status.idle": "2022-02-25T14:25:25.558144Z",
     "shell.execute_reply": "2022-02-25T14:25:25.558144Z",
     "shell.execute_reply.started": "2022-02-25T14:25:25.154210Z"
    },
    "id": "rPX9CT3hCJ_C",
    "outputId": "5bf740e6-9f11-4cfb-a024-b0e12fd99dcf",
    "tags": []
   },
   "outputs": [
    {
     "data": {
      "text/plain": [
       "<AxesSubplot:>"
      ]
     },
     "execution_count": 13,
     "metadata": {},
     "output_type": "execute_result"
    },
    {
     "data": {
      "image/png": "[encoded data removed]",
      "text/plain": [
       "<Figure size 432x288 with 1 Axes>"
      ]
     },
     "metadata": {},
     "output_type": "display_data"
    }
   ],
   "source": [
    "# Check age distribution\n",
    "data.Age.hist()"
   ]
  },
  {
   "cell_type": "code",
   "execution_count": 14,
   "metadata": {
    "colab": {
     "base_uri": "https://localhost:8080/"
    },
    "execution": {
     "iopub.execute_input": "2022-02-25T14:25:25.561807Z",
     "iopub.status.busy": "2022-02-25T14:25:25.558144Z",
     "iopub.status.idle": "2022-02-25T14:25:25.608681Z",
     "shell.execute_reply": "2022-02-25T14:25:25.605689Z",
     "shell.execute_reply.started": "2022-02-25T14:25:25.558144Z"
    },
    "id": "8sdDiqSkCRjA",
    "outputId": "774ded49-c18d-49b0-a6ff-f73d8a771cca",
    "tags": []
   },
   "outputs": [
    {
     "data": {
      "text/plain": [
       "array(['51-60', '71-80', '31-40', '41-50', '81-90', '61-70', '21-30',\n",
       "       '11-20', '0-10', '91-100'], dtype=object)"
      ]
     },
     "execution_count": 14,
     "metadata": {},
     "output_type": "execute_result"
    }
   ],
   "source": [
    "data.Age.unique()"
   ]
  },
  {
   "cell_type": "code",
   "execution_count": 15,
   "metadata": {
    "execution": {
     "iopub.execute_input": "2022-02-25T14:25:25.614666Z",
     "iopub.status.busy": "2022-02-25T14:25:25.613668Z",
     "iopub.status.idle": "2022-02-25T14:25:25.636606Z",
     "shell.execute_reply": "2022-02-25T14:25:25.636606Z",
     "shell.execute_reply.started": "2022-02-25T14:25:25.614666Z"
    },
    "id": "XiENChaCCUKH",
    "tags": []
   },
   "outputs": [],
   "source": [
    "age_dict = {'0-10': 0, '11-20': 1, '21-30': 2, '31-40': 3, '41-50': 4, '51-60': 5, '61-70': 6, '71-80': 7, '81-90': 8, '91-100': 9}"
   ]
  },
  {
   "cell_type": "code",
   "execution_count": 16,
   "metadata": {
    "execution": {
     "iopub.execute_input": "2022-02-25T14:25:25.639598Z",
     "iopub.status.busy": "2022-02-25T14:25:25.638610Z",
     "iopub.status.idle": "2022-02-25T14:25:25.910453Z",
     "shell.execute_reply": "2022-02-25T14:25:25.910453Z",
     "shell.execute_reply.started": "2022-02-25T14:25:25.639598Z"
    },
    "id": "aW6w5aARCWiw",
    "tags": []
   },
   "outputs": [],
   "source": [
    "data['Age'] = data['Age'].replace(age_dict.keys(), age_dict.values())"
   ]
  },
  {
   "cell_type": "code",
   "execution_count": 17,
   "metadata": {
    "colab": {
     "base_uri": "https://localhost:8080/"
    },
    "execution": {
     "iopub.execute_input": "2022-02-25T14:25:25.910453Z",
     "iopub.status.busy": "2022-02-25T14:25:25.910453Z",
     "iopub.status.idle": "2022-02-25T14:25:25.955298Z",
     "shell.execute_reply": "2022-02-25T14:25:25.955298Z",
     "shell.execute_reply.started": "2022-02-25T14:25:25.910453Z"
    },
    "id": "xxjPtNO3CWzN",
    "outputId": "bfa32d40-194a-429d-aaea-6beae493a492",
    "tags": []
   },
   "outputs": [
    {
     "data": {
      "text/plain": [
       "array(['0-10', '41-50', '31-40', '11-20', '51-60', '21-30', '71-80',\n",
       "       'More than 100 Days', '81-90', '61-70', '91-100'], dtype=object)"
      ]
     },
     "execution_count": 17,
     "metadata": {},
     "output_type": "execute_result"
    }
   ],
   "source": [
    "data.Stay.unique()"
   ]
  },
  {
   "cell_type": "markdown",
   "metadata": {
    "id": "hi4YEu03Cb69"
   },
   "source": [
    "#### WE SEPERATE THE TARGET INTO '0-20' - '21-ABOVE' CLASSES .\n",
    "\n"
   ]
  },
  {
   "cell_type": "code",
   "execution_count": 18,
   "metadata": {
    "execution": {
     "iopub.execute_input": "2022-02-25T14:25:25.958291Z",
     "iopub.status.busy": "2022-02-25T14:25:25.957293Z",
     "iopub.status.idle": "2022-02-25T14:25:25.972254Z",
     "shell.execute_reply": "2022-02-25T14:25:25.971258Z",
     "shell.execute_reply.started": "2022-02-25T14:25:25.958291Z"
    },
    "tags": []
   },
   "outputs": [],
   "source": [
    "#stay_dict = {'0-10': 0, '11-20': 1, '21-30': 2, '31-40': 2, '41-50': 2, '51-60': 2, '61-70': 2, '71-80': 2, '81-90': 2, '91-100': 2, 'More than 100 Days': 2}"
   ]
  },
  {
   "cell_type": "code",
   "execution_count": 19,
   "metadata": {
    "execution": {
     "iopub.execute_input": "2022-02-25T14:25:25.975246Z",
     "iopub.status.busy": "2022-02-25T14:25:25.974248Z",
     "iopub.status.idle": "2022-02-25T14:25:25.988213Z",
     "shell.execute_reply": "2022-02-25T14:25:25.987216Z",
     "shell.execute_reply.started": "2022-02-25T14:25:25.975246Z"
    },
    "id": "aBWU9kNnCcrV",
    "tags": []
   },
   "outputs": [],
   "source": [
    "stay_dict = {'0-10': 0, '11-20': 0, '21-30': 1, '31-40': 1, '41-50': 1, '51-60': 1, '61-70': 1, '71-80': 1, '81-90': 1, '91-100': 1, 'More than 100 Days': 1}"
   ]
  },
  {
   "cell_type": "code",
   "execution_count": 20,
   "metadata": {
    "execution": {
     "iopub.execute_input": "2022-02-25T14:25:25.990206Z",
     "iopub.status.busy": "2022-02-25T14:25:25.989209Z",
     "iopub.status.idle": "2022-02-25T14:25:26.304684Z",
     "shell.execute_reply": "2022-02-25T14:25:26.304684Z",
     "shell.execute_reply.started": "2022-02-25T14:25:25.990206Z"
    },
    "id": "5rp-7-mjCf4z",
    "tags": []
   },
   "outputs": [],
   "source": [
    "data['Stay'] = data['Stay'].replace(stay_dict.keys(), stay_dict.values())"
   ]
  },
  {
   "cell_type": "code",
   "execution_count": 21,
   "metadata": {
    "execution": {
     "iopub.execute_input": "2022-02-25T14:25:26.304684Z",
     "iopub.status.busy": "2022-02-25T14:25:26.304684Z",
     "iopub.status.idle": "2022-02-25T14:25:26.628784Z",
     "shell.execute_reply": "2022-02-25T14:25:26.628784Z",
     "shell.execute_reply.started": "2022-02-25T14:25:26.304684Z"
    },
    "tags": []
   },
   "outputs": [
    {
     "data": {
      "text/plain": [
       "<AxesSubplot:xlabel='Stay', ylabel='count'>"
      ]
     },
     "execution_count": 21,
     "metadata": {},
     "output_type": "execute_result"
    },
    {
     "data": {
      "image/png": "[encoded data removed]",
      "text/plain": [
       "<Figure size 432x288 with 1 Axes>"
      ]
     },
     "metadata": {},
     "output_type": "display_data"
    }
   ],
   "source": [
    "sns.countplot(x=data['Stay'], data=data)"
   ]
  },
  {
   "cell_type": "code",
   "execution_count": 22,
   "metadata": {
    "colab": {
     "base_uri": "https://localhost:8080/",
     "height": 279
    },
    "execution": {
     "iopub.execute_input": "2022-02-25T14:25:26.631775Z",
     "iopub.status.busy": "2022-02-25T14:25:26.631775Z",
     "iopub.status.idle": "2022-02-25T14:25:26.893814Z",
     "shell.execute_reply": "2022-02-25T14:25:26.892814Z",
     "shell.execute_reply.started": "2022-02-25T14:25:26.631775Z"
    },
    "id": "hZOxPheGCljs",
    "outputId": "8f34a1fd-abb8-4e7e-c957-5bbbaefedbaf",
    "tags": []
   },
   "outputs": [
    {
     "data": {
      "text/plain": [
       "<AxesSubplot:>"
      ]
     },
     "execution_count": 22,
     "metadata": {},
     "output_type": "execute_result"
    },
    {
     "data": {
      "image/png": "[encoded data removed]",
      "text/plain": [
       "<Figure size 432x288 with 1 Axes>"
      ]
     },
     "metadata": {},
     "output_type": "display_data"
    }
   ],
   "source": [
    "data.Age.hist()"
   ]
  },
  {
   "cell_type": "code",
   "execution_count": 23,
   "metadata": {
    "colab": {
     "base_uri": "https://localhost:8080/",
     "height": 762
    },
    "execution": {
     "iopub.execute_input": "2022-02-25T14:25:26.895806Z",
     "iopub.status.busy": "2022-02-25T14:25:26.894809Z",
     "iopub.status.idle": "2022-02-25T14:25:28.528330Z",
     "shell.execute_reply": "2022-02-25T14:25:28.528330Z",
     "shell.execute_reply.started": "2022-02-25T14:25:26.895806Z"
    },
    "id": "hZkqb3yvCrbZ",
    "outputId": "f02e3730-1fd6-4572-dffc-619bab1b8eec",
    "tags": []
   },
   "outputs": [
    {
     "data": {
      "image/png": "[encoded data removed]",
      "text/plain": [
       "<Figure size 1080x720 with 2 Axes>"
      ]
     },
     "metadata": {},
     "output_type": "display_data"
    }
   ],
   "source": [
    "f, ax = plt.subplots(figsize=(15, 10))\n",
    "plt.title(\"Correlation Heatmap\")\n",
    "ax=sns.heatmap(data.corr(), annot=True, fmt='.2g',cmap=\"Blues\")"
   ]
  },
  {
   "cell_type": "code",
   "execution_count": 24,
   "metadata": {
    "colab": {
     "base_uri": "https://localhost:8080/"
    },
    "execution": {
     "iopub.execute_input": "2022-02-25T14:25:28.528330Z",
     "iopub.status.busy": "2022-02-25T14:25:28.528330Z",
     "iopub.status.idle": "2022-02-25T14:25:28.576071Z",
     "shell.execute_reply": "2022-02-25T14:25:28.575074Z",
     "shell.execute_reply.started": "2022-02-25T14:25:28.528330Z"
    },
    "id": "NdnJsF67Cxuo",
    "outputId": "9325f0e5-37a8-4ca4-9be8-628302c1bfcc",
    "tags": []
   },
   "outputs": [
    {
     "name": "stdout",
     "output_type": "stream",
     "text": [
      "<class 'pandas.core.frame.DataFrame'>\n",
      "RangeIndex: 318438 entries, 0 to 318437\n",
      "Data columns (total 13 columns):\n",
      " #   Column                             Non-Null Count   Dtype  \n",
      "---  ------                             --------------   -----  \n",
      " 0   Hospital_code                      318438 non-null  int64  \n",
      " 1   Hospital_type_code                 318438 non-null  int32  \n",
      " 2   City_Code_Hospital                 318438 non-null  int64  \n",
      " 3   Available Extra Rooms in Hospital  318438 non-null  int64  \n",
      " 4   Department                         318438 non-null  int32  \n",
      " 5   Ward_Type                          318438 non-null  int32  \n",
      " 6   Ward_Facility_Code                 318438 non-null  int32  \n",
      " 7   Type of Admission                  318438 non-null  int32  \n",
      " 8   Severity of Illness                318438 non-null  int32  \n",
      " 9   Visitors with Patient              318438 non-null  int64  \n",
      " 10  Age                                318438 non-null  int64  \n",
      " 11  Admission_Deposit                  318438 non-null  float64\n",
      " 12  Stay                               318438 non-null  int64  \n",
      "dtypes: float64(1), int32(6), int64(6)\n",
      "memory usage: 24.3 MB\n"
     ]
    }
   ],
   "source": [
    "data.info() "
   ]
  },
  {
   "cell_type": "markdown",
   "metadata": {
    "id": "gl-ReCTwC8a5"
   },
   "source": [
    "Scaling Numerical Columns"
   ]
  },
  {
   "cell_type": "code",
   "execution_count": 25,
   "metadata": {
    "colab": {
     "base_uri": "https://localhost:8080/"
    },
    "execution": {
     "iopub.execute_input": "2022-02-25T14:25:28.581059Z",
     "iopub.status.busy": "2022-02-25T14:25:28.580061Z",
     "iopub.status.idle": "2022-02-25T14:25:28.605992Z",
     "shell.execute_reply": "2022-02-25T14:25:28.604994Z",
     "shell.execute_reply.started": "2022-02-25T14:25:28.581059Z"
    },
    "id": "xu9j94TiC4vm",
    "outputId": "ffcb9a4d-b0fb-4d13-e29a-1af6aa29d684",
    "tags": []
   },
   "outputs": [
    {
     "data": {
      "text/plain": [
       "0         0\n",
       "1         1\n",
       "2         1\n",
       "3         1\n",
       "4         1\n",
       "         ..\n",
       "318433    0\n",
       "318434    1\n",
       "318435    0\n",
       "318436    0\n",
       "318437    0\n",
       "Name: Stay, Length: 318438, dtype: int64"
      ]
     },
     "execution_count": 25,
     "metadata": {},
     "output_type": "execute_result"
    }
   ],
   "source": [
    "data['Stay'] # y train"
   ]
  },
  {
   "cell_type": "code",
   "execution_count": 26,
   "metadata": {
    "colab": {
     "base_uri": "https://localhost:8080/",
     "height": 441
    },
    "execution": {
     "iopub.execute_input": "2022-02-25T14:25:28.607987Z",
     "iopub.status.busy": "2022-02-25T14:25:28.606989Z",
     "iopub.status.idle": "2022-02-25T14:25:28.638905Z",
     "shell.execute_reply": "2022-02-25T14:25:28.636910Z",
     "shell.execute_reply.started": "2022-02-25T14:25:28.607987Z"
    },
    "id": "z13SaAVVC_1_",
    "outputId": "beab2d29-5c3f-4f30-bf30-39e131bc1951",
    "tags": []
   },
   "outputs": [
    {
     "data": {
      "text/html": [
       "<div>\n",
       "<style scoped>\n",
       "    .dataframe tbody tr th:only-of-type {\n",
       "        vertical-align: middle;\n",
       "    }\n",
       "\n",
       "    .dataframe tbody tr th {\n",
       "        vertical-align: top;\n",
       "    }\n",
       "\n",
       "    .dataframe thead th {\n",
       "        text-align: right;\n",
       "    }\n",
       "</style>\n",
       "<table border=\"1\" class=\"dataframe\">\n",
       "  <thead>\n",
       "    <tr style=\"text-align: right;\">\n",
       "      <th></th>\n",
       "      <th>Hospital_code</th>\n",
       "      <th>Hospital_type_code</th>\n",
       "      <th>City_Code_Hospital</th>\n",
       "      <th>Available Extra Rooms in Hospital</th>\n",
       "      <th>Department</th>\n",
       "      <th>Ward_Type</th>\n",
       "      <th>Ward_Facility_Code</th>\n",
       "      <th>Type of Admission</th>\n",
       "      <th>Severity of Illness</th>\n",
       "      <th>Visitors with Patient</th>\n",
       "      <th>Age</th>\n",
       "      <th>Admission_Deposit</th>\n",
       "      <th>Stay</th>\n",
       "    </tr>\n",
       "  </thead>\n",
       "  <tbody>\n",
       "    <tr>\n",
       "      <th>0</th>\n",
       "      <td>8</td>\n",
       "      <td>2</td>\n",
       "      <td>3</td>\n",
       "      <td>3</td>\n",
       "      <td>3</td>\n",
       "      <td>2</td>\n",
       "      <td>5</td>\n",
       "      <td>0</td>\n",
       "      <td>0</td>\n",
       "      <td>2</td>\n",
       "      <td>5</td>\n",
       "      <td>4911.0</td>\n",
       "      <td>0</td>\n",
       "    </tr>\n",
       "    <tr>\n",
       "      <th>1</th>\n",
       "      <td>2</td>\n",
       "      <td>2</td>\n",
       "      <td>5</td>\n",
       "      <td>2</td>\n",
       "      <td>3</td>\n",
       "      <td>3</td>\n",
       "      <td>5</td>\n",
       "      <td>1</td>\n",
       "      <td>0</td>\n",
       "      <td>2</td>\n",
       "      <td>5</td>\n",
       "      <td>5954.0</td>\n",
       "      <td>1</td>\n",
       "    </tr>\n",
       "    <tr>\n",
       "      <th>2</th>\n",
       "      <td>10</td>\n",
       "      <td>4</td>\n",
       "      <td>1</td>\n",
       "      <td>2</td>\n",
       "      <td>1</td>\n",
       "      <td>3</td>\n",
       "      <td>4</td>\n",
       "      <td>1</td>\n",
       "      <td>0</td>\n",
       "      <td>2</td>\n",
       "      <td>5</td>\n",
       "      <td>4745.0</td>\n",
       "      <td>1</td>\n",
       "    </tr>\n",
       "    <tr>\n",
       "      <th>3</th>\n",
       "      <td>26</td>\n",
       "      <td>1</td>\n",
       "      <td>2</td>\n",
       "      <td>2</td>\n",
       "      <td>3</td>\n",
       "      <td>2</td>\n",
       "      <td>3</td>\n",
       "      <td>1</td>\n",
       "      <td>0</td>\n",
       "      <td>2</td>\n",
       "      <td>5</td>\n",
       "      <td>7272.0</td>\n",
       "      <td>1</td>\n",
       "    </tr>\n",
       "    <tr>\n",
       "      <th>4</th>\n",
       "      <td>26</td>\n",
       "      <td>1</td>\n",
       "      <td>2</td>\n",
       "      <td>2</td>\n",
       "      <td>3</td>\n",
       "      <td>3</td>\n",
       "      <td>3</td>\n",
       "      <td>1</td>\n",
       "      <td>0</td>\n",
       "      <td>2</td>\n",
       "      <td>5</td>\n",
       "      <td>5558.0</td>\n",
       "      <td>1</td>\n",
       "    </tr>\n",
       "    <tr>\n",
       "      <th>...</th>\n",
       "      <td>...</td>\n",
       "      <td>...</td>\n",
       "      <td>...</td>\n",
       "      <td>...</td>\n",
       "      <td>...</td>\n",
       "      <td>...</td>\n",
       "      <td>...</td>\n",
       "      <td>...</td>\n",
       "      <td>...</td>\n",
       "      <td>...</td>\n",
       "      <td>...</td>\n",
       "      <td>...</td>\n",
       "      <td>...</td>\n",
       "    </tr>\n",
       "    <tr>\n",
       "      <th>318433</th>\n",
       "      <td>6</td>\n",
       "      <td>0</td>\n",
       "      <td>6</td>\n",
       "      <td>3</td>\n",
       "      <td>3</td>\n",
       "      <td>1</td>\n",
       "      <td>5</td>\n",
       "      <td>0</td>\n",
       "      <td>2</td>\n",
       "      <td>3</td>\n",
       "      <td>4</td>\n",
       "      <td>4144.0</td>\n",
       "      <td>0</td>\n",
       "    </tr>\n",
       "    <tr>\n",
       "      <th>318434</th>\n",
       "      <td>24</td>\n",
       "      <td>0</td>\n",
       "      <td>1</td>\n",
       "      <td>2</td>\n",
       "      <td>1</td>\n",
       "      <td>1</td>\n",
       "      <td>4</td>\n",
       "      <td>2</td>\n",
       "      <td>2</td>\n",
       "      <td>4</td>\n",
       "      <td>8</td>\n",
       "      <td>6699.0</td>\n",
       "      <td>1</td>\n",
       "    </tr>\n",
       "    <tr>\n",
       "      <th>318435</th>\n",
       "      <td>7</td>\n",
       "      <td>0</td>\n",
       "      <td>4</td>\n",
       "      <td>3</td>\n",
       "      <td>2</td>\n",
       "      <td>2</td>\n",
       "      <td>5</td>\n",
       "      <td>0</td>\n",
       "      <td>1</td>\n",
       "      <td>3</td>\n",
       "      <td>7</td>\n",
       "      <td>4235.0</td>\n",
       "      <td>0</td>\n",
       "    </tr>\n",
       "    <tr>\n",
       "      <th>318436</th>\n",
       "      <td>11</td>\n",
       "      <td>1</td>\n",
       "      <td>2</td>\n",
       "      <td>3</td>\n",
       "      <td>1</td>\n",
       "      <td>1</td>\n",
       "      <td>3</td>\n",
       "      <td>1</td>\n",
       "      <td>1</td>\n",
       "      <td>5</td>\n",
       "      <td>1</td>\n",
       "      <td>3761.0</td>\n",
       "      <td>0</td>\n",
       "    </tr>\n",
       "    <tr>\n",
       "      <th>318437</th>\n",
       "      <td>19</td>\n",
       "      <td>0</td>\n",
       "      <td>7</td>\n",
       "      <td>5</td>\n",
       "      <td>2</td>\n",
       "      <td>1</td>\n",
       "      <td>2</td>\n",
       "      <td>0</td>\n",
       "      <td>1</td>\n",
       "      <td>2</td>\n",
       "      <td>1</td>\n",
       "      <td>4752.0</td>\n",
       "      <td>0</td>\n",
       "    </tr>\n",
       "  </tbody>\n",
       "</table>\n",
       "<p>318438 rows × 13 columns</p>\n",
       "</div>"
      ],
      "text/plain": [
       "        Hospital_code  Hospital_type_code  City_Code_Hospital  \\\n",
       "0                   8                   2                   3   \n",
       "1                   2                   2                   5   \n",
       "2                  10                   4                   1   \n",
       "3                  26                   1                   2   \n",
       "4                  26                   1                   2   \n",
       "...               ...                 ...                 ...   \n",
       "318433              6                   0                   6   \n",
       "318434             24                   0                   1   \n",
       "318435              7                   0                   4   \n",
       "318436             11                   1                   2   \n",
       "318437             19                   0                   7   \n",
       "\n",
       "        Available Extra Rooms in Hospital  Department  Ward_Type  \\\n",
       "0                                       3           3          2   \n",
       "1                                       2           3          3   \n",
       "2                                       2           1          3   \n",
       "3                                       2           3          2   \n",
       "4                                       2           3          3   \n",
       "...                                   ...         ...        ...   \n",
       "318433                                  3           3          1   \n",
       "318434                                  2           1          1   \n",
       "318435                                  3           2          2   \n",
       "318436                                  3           1          1   \n",
       "318437                                  5           2          1   \n",
       "\n",
       "        Ward_Facility_Code  Type of Admission  Severity of Illness  \\\n",
       "0                        5                  0                    0   \n",
       "1                        5                  1                    0   \n",
       "2                        4                  1                    0   \n",
       "3                        3                  1                    0   \n",
       "4                        3                  1                    0   \n",
       "...                    ...                ...                  ...   \n",
       "318433                   5                  0                    2   \n",
       "318434                   4                  2                    2   \n",
       "318435                   5                  0                    1   \n",
       "318436                   3                  1                    1   \n",
       "318437                   2                  0                    1   \n",
       "\n",
       "        Visitors with Patient  Age  Admission_Deposit  Stay  \n",
       "0                           2    5             4911.0     0  \n",
       "1                           2    5             5954.0     1  \n",
       "2                           2    5             4745.0     1  \n",
       "3                           2    5             7272.0     1  \n",
       "4                           2    5             5558.0     1  \n",
       "...                       ...  ...                ...   ...  \n",
       "318433                      3    4             4144.0     0  \n",
       "318434                      4    8             6699.0     1  \n",
       "318435                      3    7             4235.0     0  \n",
       "318436                      5    1             3761.0     0  \n",
       "318437                      2    1             4752.0     0  \n",
       "\n",
       "[318438 rows x 13 columns]"
      ]
     },
     "execution_count": 26,
     "metadata": {},
     "output_type": "execute_result"
    }
   ],
   "source": [
    "data"
   ]
  },
  {
   "cell_type": "markdown",
   "metadata": {
    "id": "EHRDtzcwDE7C"
   },
   "source": [
    "### SPLIT THE DATA"
   ]
  },
  {
   "cell_type": "code",
   "execution_count": 27,
   "metadata": {
    "execution": {
     "iopub.execute_input": "2022-02-25T14:25:28.650871Z",
     "iopub.status.busy": "2022-02-25T14:25:28.650871Z",
     "iopub.status.idle": "2022-02-25T14:25:28.826401Z",
     "shell.execute_reply": "2022-02-25T14:25:28.826401Z",
     "shell.execute_reply.started": "2022-02-25T14:25:28.650871Z"
    }
   },
   "outputs": [],
   "source": [
    "X= data.drop('Stay', axis=1)\n",
    "y= data['Stay']\n",
    "\n",
    "X_train, X_test, y_train, y_test = train_test_split(X, y, test_size=0.2, random_state=42, shuffle=True)"
   ]
  },
  {
   "cell_type": "markdown",
   "metadata": {
    "tags": []
   },
   "source": [
    "### **CLASSIFIERS**"
   ]
  },
  {
   "cell_type": "code",
   "execution_count": 45,
   "metadata": {
    "colab": {
     "base_uri": "https://localhost:8080/"
    },
    "execution": {
     "iopub.execute_input": "2022-02-25T14:32:41.529844Z",
     "iopub.status.busy": "2022-02-25T14:32:41.528846Z",
     "iopub.status.idle": "2022-02-25T14:32:47.876619Z",
     "shell.execute_reply": "2022-02-25T14:32:47.876619Z",
     "shell.execute_reply.started": "2022-02-25T14:32:41.529844Z"
    },
    "id": "xgGW3IioDFqd",
    "outputId": "7872b883-aa23-4056-e388-aa62345d0a32",
    "tags": []
   },
   "outputs": [
    {
     "name": "stdout",
     "output_type": "stream",
     "text": [
      "              precision    recall  f1-score   support\n",
      "\n",
      "           0       0.41      0.66      0.50     20250\n",
      "           1       0.78      0.55      0.64     43438\n",
      "\n",
      "    accuracy                           0.59     63688\n",
      "   macro avg       0.59      0.61      0.57     63688\n",
      "weighted avg       0.66      0.59      0.60     63688\n",
      "\n"
     ]
    },
    {
     "data": {
      "text/plain": [
       "0.6067774384265014"
      ]
     },
     "execution_count": 45,
     "metadata": {},
     "output_type": "execute_result"
    }
   ],
   "source": [
    "lr = LogisticRegression(multi_class='auto',class_weight='balanced',max_iter=300)\n",
    "lr.fit(X_train, y_train)\n",
    "y_pred_lr=lr.predict(X_test)\n",
    "print(classification_report(y_test, y_pred_lr))\n",
    "balanced_accuracy_score(y_test, y_pred_lr)"
   ]
  },
  {
   "cell_type": "code",
   "execution_count": 47,
   "metadata": {
    "execution": {
     "iopub.execute_input": "2022-02-25T14:33:54.228988Z",
     "iopub.status.busy": "2022-02-25T14:33:54.227989Z",
     "iopub.status.idle": "2022-02-25T14:34:02.079418Z",
     "shell.execute_reply": "2022-02-25T14:34:02.079418Z",
     "shell.execute_reply.started": "2022-02-25T14:33:54.228988Z"
    },
    "tags": []
   },
   "outputs": [
    {
     "name": "stdout",
     "output_type": "stream",
     "text": [
      "              precision    recall  f1-score   support\n",
      "\n",
      "           0       0.41      0.35      0.38     20250\n",
      "           1       0.72      0.77      0.74     43438\n",
      "\n",
      "    accuracy                           0.63     63688\n",
      "   macro avg       0.56      0.56      0.56     63688\n",
      "weighted avg       0.62      0.63      0.62     63688\n",
      "\n"
     ]
    },
    {
     "data": {
      "text/plain": [
       "0.5576591492116761"
      ]
     },
     "execution_count": 47,
     "metadata": {},
     "output_type": "execute_result"
    }
   ],
   "source": [
    "# KNN\n",
    "knn = KNeighborsClassifier(n_neighbors = 3)\n",
    "knn.fit(X_train, y_train)\n",
    "y_pred_knn = knn.predict(X_test)\n",
    "print(classification_report(y_test, y_pred_knn))\n",
    "balanced_accuracy_score(y_test, y_pred_knn)"
   ]
  },
  {
   "cell_type": "code",
   "execution_count": 52,
   "metadata": {
    "execution": {
     "iopub.execute_input": "2022-02-25T14:41:52.403624Z",
     "iopub.status.busy": "2022-02-25T14:41:52.403624Z",
     "iopub.status.idle": "2022-02-25T14:42:52.242724Z",
     "shell.execute_reply": "2022-02-25T14:42:52.241726Z",
     "shell.execute_reply.started": "2022-02-25T14:41:52.403624Z"
    },
    "tags": []
   },
   "outputs": [
    {
     "name": "stdout",
     "output_type": "stream",
     "text": [
      "              precision    recall  f1-score   support\n",
      "\n",
      "           0       0.49      0.42      0.45     20250\n",
      "           1       0.75      0.80      0.77     43438\n",
      "\n",
      "    accuracy                           0.68     63688\n",
      "   macro avg       0.62      0.61      0.61     63688\n",
      "weighted avg       0.67      0.68      0.67     63688\n",
      "\n"
     ]
    },
    {
     "data": {
      "text/plain": [
       "0.6091317370749512"
      ]
     },
     "execution_count": 52,
     "metadata": {},
     "output_type": "execute_result"
    }
   ],
   "source": [
    "# Random Forest\n",
    "random_forest = RandomForestClassifier(n_estimators=100,class_weight='balanced')\n",
    "random_forest.fit(X_train, y_train)\n",
    "y_pred_RF = random_forest.predict(X_test)\n",
    "print(classification_report(y_test, y_pred_RF))\n",
    "balanced_accuracy_score(y_test, y_pred_RF)"
   ]
  },
  {
   "cell_type": "code",
   "execution_count": 56,
   "metadata": {
    "execution": {
     "iopub.execute_input": "2022-02-25T14:50:27.468085Z",
     "iopub.status.busy": "2022-02-25T14:50:27.468085Z",
     "iopub.status.idle": "2022-02-25T14:50:30.026151Z",
     "shell.execute_reply": "2022-02-25T14:50:30.026151Z",
     "shell.execute_reply.started": "2022-02-25T14:50:27.468085Z"
    },
    "tags": []
   },
   "outputs": [
    {
     "name": "stdout",
     "output_type": "stream",
     "text": [
      "              precision    recall  f1-score   support\n",
      "\n",
      "           0       0.44      0.45      0.44     20250\n",
      "           1       0.74      0.73      0.74     43438\n",
      "\n",
      "    accuracy                           0.64     63688\n",
      "   macro avg       0.59      0.59      0.59     63688\n",
      "weighted avg       0.64      0.64      0.64     63688\n",
      "\n"
     ]
    },
    {
     "data": {
      "text/plain": [
       "0.5904555446985884"
      ]
     },
     "execution_count": 56,
     "metadata": {},
     "output_type": "execute_result"
    }
   ],
   "source": [
    "# Decision Tree\n",
    "decision_tree = DecisionTreeClassifier()\n",
    "decision_tree.fit(X_train, y_train)\n",
    "y_pred_DT = decision_tree.predict(X_test)\n",
    "print(classification_report(y_test, y_pred_DT))\n",
    "balanced_accuracy_score(y_test, y_pred_DT)"
   ]
  },
  {
   "cell_type": "code",
   "execution_count": 58,
   "metadata": {
    "execution": {
     "iopub.execute_input": "2022-02-25T14:51:26.737010Z",
     "iopub.status.busy": "2022-02-25T14:51:26.737010Z",
     "iopub.status.idle": "2022-02-25T14:51:26.999351Z",
     "shell.execute_reply": "2022-02-25T14:51:26.999351Z",
     "shell.execute_reply.started": "2022-02-25T14:51:26.737010Z"
    },
    "tags": []
   },
   "outputs": [
    {
     "data": {
      "text/plain": [
       "<AxesSubplot:>"
      ]
     },
     "execution_count": 58,
     "metadata": {},
     "output_type": "execute_result"
    },
    {
     "data": {
      "image/png": "[encoded data removed]",
      "text/plain": [
       "<Figure size 432x288 with 1 Axes>"
      ]
     },
     "metadata": {},
     "output_type": "display_data"
    }
   ],
   "source": [
    "sns.barplot(x= ['LR','KNN','DT','RF'],y= [balanced_accuracy_score(y_test, y_pred_lr),\n",
    "                                          balanced_accuracy_score(y_test, y_pred_knn), \n",
    "                                          balanced_accuracy_score(y_test, y_pred_DT),\n",
    "                                          balanced_accuracy_score(y_test, y_pred_RF)])"
   ]
  },
  {
   "cell_type": "markdown",
   "metadata": {
    "colab": {
     "base_uri": "https://localhost:8080/",
     "height": 87
    },
    "id": "2aaVhqb4DKgr",
    "outputId": "41b00fdc-a2f1-4d85-d5ee-9185d8dd9985",
    "tags": []
   },
   "source": [
    "### FEATURE IMPORTANCE\n"
   ]
  },
  {
   "cell_type": "code",
   "execution_count": null,
   "metadata": {},
   "outputs": [],
   "source": [
    "#random_forest"
   ]
  },
  {
   "cell_type": "code",
   "execution_count": 53,
   "metadata": {
    "execution": {
     "iopub.execute_input": "2022-02-25T14:44:47.265857Z",
     "iopub.status.busy": "2022-02-25T14:44:47.264861Z",
     "iopub.status.idle": "2022-02-25T14:44:47.927584Z",
     "shell.execute_reply": "2022-02-25T14:44:47.927584Z",
     "shell.execute_reply.started": "2022-02-25T14:44:47.265857Z"
    }
   },
   "outputs": [
    {
     "data": {
      "image/png": "[encoded data removed]",
      "text/plain": [
       "<Figure size 1008x720 with 1 Axes>"
      ]
     },
     "metadata": {},
     "output_type": "display_data"
    }
   ],
   "source": [
    "importance = pd.Series(random_forest.feature_importances_, index=list(X))\n",
    "importance = importance/importance.max()\n",
    "importance = importance.sort_values(ascending=False).head(20)\n",
    "importance.sort_values().plot.barh(figsize=(14,10))\n",
    "plt.show()"
   ]
  },
  {
   "cell_type": "code",
   "execution_count": 54,
   "metadata": {
    "colab": {
     "base_uri": "https://localhost:8080/",
     "height": 588
    },
    "execution": {
     "iopub.execute_input": "2022-02-25T14:45:03.875267Z",
     "iopub.status.busy": "2022-02-25T14:45:03.874270Z",
     "iopub.status.idle": "2022-02-25T14:46:47.529807Z",
     "shell.execute_reply": "2022-02-25T14:46:47.528809Z",
     "shell.execute_reply.started": "2022-02-25T14:45:03.875267Z"
    },
    "id": "JSt6rnTysVs3",
    "outputId": "1aa6474b-52b6-4664-a308-89a56d83196e",
    "tags": []
   },
   "outputs": [
    {
     "data": {
      "image/png": "[encoded data removed]",
      "text/plain": [
       "<Figure size 576x453.6 with 1 Axes>"
      ]
     },
     "metadata": {},
     "output_type": "display_data"
    }
   ],
   "source": [
    "shap_values = shap.TreeExplainer(random_forest).shap_values(X_train, approximate=True)\n",
    "shap.summary_plot(shap_values, X_train, plot_type=\"bar\")"
   ]
  },
  {
   "cell_type": "markdown",
   "metadata": {
    "colab": {
     "base_uri": "https://localhost:8080/",
     "height": 70
    },
    "id": "xRBpyIfxDTo5",
    "outputId": "bfa7a026-81a2-43ea-a7b4-a0868894f2fc",
    "tags": []
   },
   "source": [
    "### OVERSAMPLING WITH SMOTE"
   ]
  },
  {
   "cell_type": "code",
   "execution_count": 59,
   "metadata": {
    "execution": {
     "iopub.execute_input": "2022-02-25T14:54:36.309010Z",
     "iopub.status.busy": "2022-02-25T14:54:36.309010Z",
     "iopub.status.idle": "2022-02-25T14:54:39.309295Z",
     "shell.execute_reply": "2022-02-25T14:54:39.309295Z",
     "shell.execute_reply.started": "2022-02-25T14:54:36.309010Z"
    }
   },
   "outputs": [],
   "source": [
    "sm = SMOTE(random_state=42)\n",
    "X_train_smote, y_train_smote = sm.fit_resample(X_train, y_train)"
   ]
  },
  {
   "cell_type": "code",
   "execution_count": 77,
   "metadata": {
    "execution": {
     "iopub.execute_input": "2022-02-25T15:06:48.362804Z",
     "iopub.status.busy": "2022-02-25T15:06:48.361806Z",
     "iopub.status.idle": "2022-02-25T15:06:48.712994Z",
     "shell.execute_reply": "2022-02-25T15:06:48.712994Z",
     "shell.execute_reply.started": "2022-02-25T15:06:48.362804Z"
    },
    "tags": []
   },
   "outputs": [
    {
     "name": "stdout",
     "output_type": "stream",
     "text": [
      "the sample before smote: 1    173257\n",
      "0     81493\n",
      "Name: Stay, dtype: int64\n",
      "the sample after smote: 1    173257\n",
      "0    173257\n",
      "Name: Stay, dtype: int64\n"
     ]
    },
    {
     "data": {
      "text/plain": [
       "<AxesSubplot:xlabel='Stay', ylabel='count'>"
      ]
     },
     "execution_count": 77,
     "metadata": {},
     "output_type": "execute_result"
    },
    {
     "data": {
      "image/png": "[encoded data removed]",
      "text/plain": [
       "<Figure size 432x288 with 1 Axes>"
      ]
     },
     "metadata": {},
     "output_type": "display_data"
    }
   ],
   "source": [
    "print(f'the sample before smote: {y_train.value_counts()}')\n",
    "print(f'the sample after smote: {y_train_smote.value_counts()}')\n",
    "sns.countplot(x=y_train_smote , data=data)"
   ]
  },
  {
   "cell_type": "code",
   "execution_count": 60,
   "metadata": {
    "execution": {
     "iopub.execute_input": "2022-02-25T14:56:09.701597Z",
     "iopub.status.busy": "2022-02-25T14:56:09.701597Z",
     "iopub.status.idle": "2022-02-25T14:56:23.728529Z",
     "shell.execute_reply": "2022-02-25T14:56:23.728529Z",
     "shell.execute_reply.started": "2022-02-25T14:56:09.701597Z"
    },
    "tags": []
   },
   "outputs": [
    {
     "name": "stdout",
     "output_type": "stream",
     "text": [
      "              precision    recall  f1-score   support\n",
      "\n",
      "           0       0.42      0.57      0.48     20250\n",
      "           1       0.76      0.62      0.68     43438\n",
      "\n",
      "    accuracy                           0.61     63688\n",
      "   macro avg       0.59      0.60      0.58     63688\n",
      "weighted avg       0.65      0.61      0.62     63688\n",
      "\n"
     ]
    },
    {
     "data": {
      "text/plain": [
       "0.5986101729213598"
      ]
     },
     "execution_count": 60,
     "metadata": {},
     "output_type": "execute_result"
    }
   ],
   "source": [
    "lr = LogisticRegression(multi_class='auto',class_weight='balanced',max_iter=300)\n",
    "lr.fit(X_train_smote, y_train_smote)\n",
    "y_pred_lr=lr.predict(X_test)\n",
    "print(classification_report(y_test, y_pred_lr))\n",
    "balanced_accuracy_score(y_test, y_pred_lr)"
   ]
  },
  {
   "cell_type": "code",
   "execution_count": 61,
   "metadata": {
    "execution": {
     "iopub.execute_input": "2022-02-25T14:56:23.728529Z",
     "iopub.status.busy": "2022-02-25T14:56:23.728529Z",
     "iopub.status.idle": "2022-02-25T14:56:34.280847Z",
     "shell.execute_reply": "2022-02-25T14:56:34.280847Z",
     "shell.execute_reply.started": "2022-02-25T14:56:23.728529Z"
    }
   },
   "outputs": [
    {
     "name": "stdout",
     "output_type": "stream",
     "text": [
      "              precision    recall  f1-score   support\n",
      "\n",
      "           0       0.39      0.52      0.45     20250\n",
      "           1       0.74      0.63      0.68     43438\n",
      "\n",
      "    accuracy                           0.59     63688\n",
      "   macro avg       0.56      0.57      0.56     63688\n",
      "weighted avg       0.63      0.59      0.60     63688\n",
      "\n"
     ]
    },
    {
     "data": {
      "text/plain": [
       "0.5724814001963349"
      ]
     },
     "execution_count": 61,
     "metadata": {},
     "output_type": "execute_result"
    }
   ],
   "source": [
    "# KNN\n",
    "knn = KNeighborsClassifier(n_neighbors = 3)\n",
    "knn.fit(X_train_smote, y_train_smote)\n",
    "y_pred_knn = knn.predict(X_test)\n",
    "print(classification_report(y_test, y_pred_knn))\n",
    "balanced_accuracy_score(y_test, y_pred_knn)"
   ]
  },
  {
   "cell_type": "code",
   "execution_count": 62,
   "metadata": {
    "execution": {
     "iopub.execute_input": "2022-02-25T14:56:34.283841Z",
     "iopub.status.busy": "2022-02-25T14:56:34.282843Z",
     "iopub.status.idle": "2022-02-25T14:58:01.996502Z",
     "shell.execute_reply": "2022-02-25T14:58:01.992512Z",
     "shell.execute_reply.started": "2022-02-25T14:56:34.283841Z"
    }
   },
   "outputs": [
    {
     "name": "stdout",
     "output_type": "stream",
     "text": [
      "              precision    recall  f1-score   support\n",
      "\n",
      "           0       0.47      0.54      0.50     20250\n",
      "           1       0.77      0.72      0.74     43438\n",
      "\n",
      "    accuracy                           0.66     63688\n",
      "   macro avg       0.62      0.63      0.62     63688\n",
      "weighted avg       0.67      0.66      0.67     63688\n",
      "\n"
     ]
    },
    {
     "data": {
      "text/plain": [
       "0.6281923820470101"
      ]
     },
     "execution_count": 62,
     "metadata": {},
     "output_type": "execute_result"
    }
   ],
   "source": [
    "# Random Forest\n",
    "random_forest = RandomForestClassifier(n_estimators=100,class_weight='balanced')\n",
    "random_forest.fit(X_train_smote, y_train_smote)\n",
    "y_pred_RF = random_forest.predict(X_test)\n",
    "print(classification_report(y_test, y_pred_RF))\n",
    "balanced_accuracy_score(y_test, y_pred_RF)"
   ]
  },
  {
   "cell_type": "code",
   "execution_count": 63,
   "metadata": {
    "execution": {
     "iopub.execute_input": "2022-02-25T14:58:02.023431Z",
     "iopub.status.busy": "2022-02-25T14:58:02.022433Z",
     "iopub.status.idle": "2022-02-25T14:58:06.747459Z",
     "shell.execute_reply": "2022-02-25T14:58:06.746461Z",
     "shell.execute_reply.started": "2022-02-25T14:58:02.023431Z"
    }
   },
   "outputs": [
    {
     "name": "stdout",
     "output_type": "stream",
     "text": [
      "              precision    recall  f1-score   support\n",
      "\n",
      "           0       0.43      0.52      0.47     20250\n",
      "           1       0.75      0.68      0.72     43438\n",
      "\n",
      "    accuracy                           0.63     63688\n",
      "   macro avg       0.59      0.60      0.60     63688\n",
      "weighted avg       0.65      0.63      0.64     63688\n",
      "\n"
     ]
    },
    {
     "data": {
      "text/plain": [
       "0.6019039016301935"
      ]
     },
     "execution_count": 63,
     "metadata": {},
     "output_type": "execute_result"
    }
   ],
   "source": [
    "# Decision Tree\n",
    "decision_tree = DecisionTreeClassifier()\n",
    "decision_tree.fit(X_train_smote, y_train_smote)\n",
    "y_pred_DT = decision_tree.predict(X_test)\n",
    "print(classification_report(y_test, y_pred_DT))\n",
    "balanced_accuracy_score(y_test, y_pred_DT)"
   ]
  },
  {
   "cell_type": "code",
   "execution_count": 78,
   "metadata": {
    "execution": {
     "iopub.execute_input": "2022-02-25T15:07:16.224810Z",
     "iopub.status.busy": "2022-02-25T15:07:16.224810Z",
     "iopub.status.idle": "2022-02-25T15:07:16.493639Z",
     "shell.execute_reply": "2022-02-25T15:07:16.491641Z",
     "shell.execute_reply.started": "2022-02-25T15:07:16.224810Z"
    },
    "tags": []
   },
   "outputs": [
    {
     "data": {
      "text/plain": [
       "<AxesSubplot:>"
      ]
     },
     "execution_count": 78,
     "metadata": {},
     "output_type": "execute_result"
    },
    {
     "data": {
      "image/png": "[encoded data removed]",
      "text/plain": [
       "<Figure size 432x288 with 1 Axes>"
      ]
     },
     "metadata": {},
     "output_type": "display_data"
    }
   ],
   "source": [
    "sns.barplot(x= ['LR','KNN','DT','RF'],y= [balanced_accuracy_score(y_test, y_pred_lr),\n",
    "                                          balanced_accuracy_score(y_test, y_pred_knn), \n",
    "                                          balanced_accuracy_score(y_test, y_pred_DT),\n",
    "                                          balanced_accuracy_score(y_test, y_pred_RF)])"
   ]
  },
  {
   "cell_type": "markdown",
   "metadata": {},
   "source": [
    "### we see with oversampling that RandomForest is a little better"
   ]
  },
  {
   "cell_type": "markdown",
   "metadata": {},
   "source": [
    "# WE WILL TRY WITH DUMMIES "
   ]
  },
  {
   "cell_type": "code",
   "execution_count": 81,
   "metadata": {
    "execution": {
     "iopub.execute_input": "2022-02-25T15:12:47.942086Z",
     "iopub.status.busy": "2022-02-25T15:12:47.942086Z",
     "iopub.status.idle": "2022-02-25T15:12:48.727332Z",
     "shell.execute_reply": "2022-02-25T15:12:48.727332Z",
     "shell.execute_reply.started": "2022-02-25T15:12:47.942086Z"
    },
    "tags": []
   },
   "outputs": [
    {
     "data": {
      "text/html": [
       "<div>\n",
       "<style scoped>\n",
       "    .dataframe tbody tr th:only-of-type {\n",
       "        vertical-align: middle;\n",
       "    }\n",
       "\n",
       "    .dataframe tbody tr th {\n",
       "        vertical-align: top;\n",
       "    }\n",
       "\n",
       "    .dataframe thead th {\n",
       "        text-align: right;\n",
       "    }\n",
       "</style>\n",
       "<table border=\"1\" class=\"dataframe\">\n",
       "  <thead>\n",
       "    <tr style=\"text-align: right;\">\n",
       "      <th></th>\n",
       "      <th>case_id</th>\n",
       "      <th>Hospital_code</th>\n",
       "      <th>Hospital_type_code</th>\n",
       "      <th>City_Code_Hospital</th>\n",
       "      <th>Hospital_region_code</th>\n",
       "      <th>Available Extra Rooms in Hospital</th>\n",
       "      <th>Department</th>\n",
       "      <th>Ward_Type</th>\n",
       "      <th>Ward_Facility_Code</th>\n",
       "      <th>Bed Grade</th>\n",
       "      <th>patientid</th>\n",
       "      <th>City_Code_Patient</th>\n",
       "      <th>Type of Admission</th>\n",
       "      <th>Severity of Illness</th>\n",
       "      <th>Visitors with Patient</th>\n",
       "      <th>Age</th>\n",
       "      <th>Admission_Deposit</th>\n",
       "      <th>Stay</th>\n",
       "    </tr>\n",
       "  </thead>\n",
       "  <tbody>\n",
       "    <tr>\n",
       "      <th>0</th>\n",
       "      <td>1</td>\n",
       "      <td>8</td>\n",
       "      <td>c</td>\n",
       "      <td>3</td>\n",
       "      <td>Z</td>\n",
       "      <td>3</td>\n",
       "      <td>radiotherapy</td>\n",
       "      <td>R</td>\n",
       "      <td>F</td>\n",
       "      <td>2.0</td>\n",
       "      <td>31397</td>\n",
       "      <td>7.0</td>\n",
       "      <td>Emergency</td>\n",
       "      <td>Extreme</td>\n",
       "      <td>2</td>\n",
       "      <td>51-60</td>\n",
       "      <td>4911.0</td>\n",
       "      <td>0-10</td>\n",
       "    </tr>\n",
       "    <tr>\n",
       "      <th>1</th>\n",
       "      <td>2</td>\n",
       "      <td>2</td>\n",
       "      <td>c</td>\n",
       "      <td>5</td>\n",
       "      <td>Z</td>\n",
       "      <td>2</td>\n",
       "      <td>radiotherapy</td>\n",
       "      <td>S</td>\n",
       "      <td>F</td>\n",
       "      <td>2.0</td>\n",
       "      <td>31397</td>\n",
       "      <td>7.0</td>\n",
       "      <td>Trauma</td>\n",
       "      <td>Extreme</td>\n",
       "      <td>2</td>\n",
       "      <td>51-60</td>\n",
       "      <td>5954.0</td>\n",
       "      <td>41-50</td>\n",
       "    </tr>\n",
       "    <tr>\n",
       "      <th>2</th>\n",
       "      <td>3</td>\n",
       "      <td>10</td>\n",
       "      <td>e</td>\n",
       "      <td>1</td>\n",
       "      <td>X</td>\n",
       "      <td>2</td>\n",
       "      <td>anesthesia</td>\n",
       "      <td>S</td>\n",
       "      <td>E</td>\n",
       "      <td>2.0</td>\n",
       "      <td>31397</td>\n",
       "      <td>7.0</td>\n",
       "      <td>Trauma</td>\n",
       "      <td>Extreme</td>\n",
       "      <td>2</td>\n",
       "      <td>51-60</td>\n",
       "      <td>4745.0</td>\n",
       "      <td>31-40</td>\n",
       "    </tr>\n",
       "    <tr>\n",
       "      <th>3</th>\n",
       "      <td>4</td>\n",
       "      <td>26</td>\n",
       "      <td>b</td>\n",
       "      <td>2</td>\n",
       "      <td>Y</td>\n",
       "      <td>2</td>\n",
       "      <td>radiotherapy</td>\n",
       "      <td>R</td>\n",
       "      <td>D</td>\n",
       "      <td>2.0</td>\n",
       "      <td>31397</td>\n",
       "      <td>7.0</td>\n",
       "      <td>Trauma</td>\n",
       "      <td>Extreme</td>\n",
       "      <td>2</td>\n",
       "      <td>51-60</td>\n",
       "      <td>7272.0</td>\n",
       "      <td>41-50</td>\n",
       "    </tr>\n",
       "    <tr>\n",
       "      <th>4</th>\n",
       "      <td>5</td>\n",
       "      <td>26</td>\n",
       "      <td>b</td>\n",
       "      <td>2</td>\n",
       "      <td>Y</td>\n",
       "      <td>2</td>\n",
       "      <td>radiotherapy</td>\n",
       "      <td>S</td>\n",
       "      <td>D</td>\n",
       "      <td>2.0</td>\n",
       "      <td>31397</td>\n",
       "      <td>7.0</td>\n",
       "      <td>Trauma</td>\n",
       "      <td>Extreme</td>\n",
       "      <td>2</td>\n",
       "      <td>51-60</td>\n",
       "      <td>5558.0</td>\n",
       "      <td>41-50</td>\n",
       "    </tr>\n",
       "    <tr>\n",
       "      <th>...</th>\n",
       "      <td>...</td>\n",
       "      <td>...</td>\n",
       "      <td>...</td>\n",
       "      <td>...</td>\n",
       "      <td>...</td>\n",
       "      <td>...</td>\n",
       "      <td>...</td>\n",
       "      <td>...</td>\n",
       "      <td>...</td>\n",
       "      <td>...</td>\n",
       "      <td>...</td>\n",
       "      <td>...</td>\n",
       "      <td>...</td>\n",
       "      <td>...</td>\n",
       "      <td>...</td>\n",
       "      <td>...</td>\n",
       "      <td>...</td>\n",
       "      <td>...</td>\n",
       "    </tr>\n",
       "    <tr>\n",
       "      <th>318433</th>\n",
       "      <td>318434</td>\n",
       "      <td>6</td>\n",
       "      <td>a</td>\n",
       "      <td>6</td>\n",
       "      <td>X</td>\n",
       "      <td>3</td>\n",
       "      <td>radiotherapy</td>\n",
       "      <td>Q</td>\n",
       "      <td>F</td>\n",
       "      <td>4.0</td>\n",
       "      <td>86499</td>\n",
       "      <td>23.0</td>\n",
       "      <td>Emergency</td>\n",
       "      <td>Moderate</td>\n",
       "      <td>3</td>\n",
       "      <td>41-50</td>\n",
       "      <td>4144.0</td>\n",
       "      <td>11-20</td>\n",
       "    </tr>\n",
       "    <tr>\n",
       "      <th>318434</th>\n",
       "      <td>318435</td>\n",
       "      <td>24</td>\n",
       "      <td>a</td>\n",
       "      <td>1</td>\n",
       "      <td>X</td>\n",
       "      <td>2</td>\n",
       "      <td>anesthesia</td>\n",
       "      <td>Q</td>\n",
       "      <td>E</td>\n",
       "      <td>4.0</td>\n",
       "      <td>325</td>\n",
       "      <td>8.0</td>\n",
       "      <td>Urgent</td>\n",
       "      <td>Moderate</td>\n",
       "      <td>4</td>\n",
       "      <td>81-90</td>\n",
       "      <td>6699.0</td>\n",
       "      <td>31-40</td>\n",
       "    </tr>\n",
       "    <tr>\n",
       "      <th>318435</th>\n",
       "      <td>318436</td>\n",
       "      <td>7</td>\n",
       "      <td>a</td>\n",
       "      <td>4</td>\n",
       "      <td>X</td>\n",
       "      <td>3</td>\n",
       "      <td>gynecology</td>\n",
       "      <td>R</td>\n",
       "      <td>F</td>\n",
       "      <td>4.0</td>\n",
       "      <td>125235</td>\n",
       "      <td>10.0</td>\n",
       "      <td>Emergency</td>\n",
       "      <td>Minor</td>\n",
       "      <td>3</td>\n",
       "      <td>71-80</td>\n",
       "      <td>4235.0</td>\n",
       "      <td>11-20</td>\n",
       "    </tr>\n",
       "    <tr>\n",
       "      <th>318436</th>\n",
       "      <td>318437</td>\n",
       "      <td>11</td>\n",
       "      <td>b</td>\n",
       "      <td>2</td>\n",
       "      <td>Y</td>\n",
       "      <td>3</td>\n",
       "      <td>anesthesia</td>\n",
       "      <td>Q</td>\n",
       "      <td>D</td>\n",
       "      <td>3.0</td>\n",
       "      <td>91081</td>\n",
       "      <td>8.0</td>\n",
       "      <td>Trauma</td>\n",
       "      <td>Minor</td>\n",
       "      <td>5</td>\n",
       "      <td>11-20</td>\n",
       "      <td>3761.0</td>\n",
       "      <td>11-20</td>\n",
       "    </tr>\n",
       "    <tr>\n",
       "      <th>318437</th>\n",
       "      <td>318438</td>\n",
       "      <td>19</td>\n",
       "      <td>a</td>\n",
       "      <td>7</td>\n",
       "      <td>Y</td>\n",
       "      <td>5</td>\n",
       "      <td>gynecology</td>\n",
       "      <td>Q</td>\n",
       "      <td>C</td>\n",
       "      <td>2.0</td>\n",
       "      <td>21641</td>\n",
       "      <td>8.0</td>\n",
       "      <td>Emergency</td>\n",
       "      <td>Minor</td>\n",
       "      <td>2</td>\n",
       "      <td>11-20</td>\n",
       "      <td>4752.0</td>\n",
       "      <td>0-10</td>\n",
       "    </tr>\n",
       "  </tbody>\n",
       "</table>\n",
       "<p>318438 rows × 18 columns</p>\n",
       "</div>"
      ],
      "text/plain": [
       "        case_id  Hospital_code Hospital_type_code  City_Code_Hospital  \\\n",
       "0             1              8                  c                   3   \n",
       "1             2              2                  c                   5   \n",
       "2             3             10                  e                   1   \n",
       "3             4             26                  b                   2   \n",
       "4             5             26                  b                   2   \n",
       "...         ...            ...                ...                 ...   \n",
       "318433   318434              6                  a                   6   \n",
       "318434   318435             24                  a                   1   \n",
       "318435   318436              7                  a                   4   \n",
       "318436   318437             11                  b                   2   \n",
       "318437   318438             19                  a                   7   \n",
       "\n",
       "       Hospital_region_code  Available Extra Rooms in Hospital    Department  \\\n",
       "0                         Z                                  3  radiotherapy   \n",
       "1                         Z                                  2  radiotherapy   \n",
       "2                         X                                  2    anesthesia   \n",
       "3                         Y                                  2  radiotherapy   \n",
       "4                         Y                                  2  radiotherapy   \n",
       "...                     ...                                ...           ...   \n",
       "318433                    X                                  3  radiotherapy   \n",
       "318434                    X                                  2    anesthesia   \n",
       "318435                    X                                  3    gynecology   \n",
       "318436                    Y                                  3    anesthesia   \n",
       "318437                    Y                                  5    gynecology   \n",
       "\n",
       "       Ward_Type Ward_Facility_Code  Bed Grade  patientid  City_Code_Patient  \\\n",
       "0              R                  F        2.0      31397                7.0   \n",
       "1              S                  F        2.0      31397                7.0   \n",
       "2              S                  E        2.0      31397                7.0   \n",
       "3              R                  D        2.0      31397                7.0   \n",
       "4              S                  D        2.0      31397                7.0   \n",
       "...          ...                ...        ...        ...                ...   \n",
       "318433         Q                  F        4.0      86499               23.0   \n",
       "318434         Q                  E        4.0        325                8.0   \n",
       "318435         R                  F        4.0     125235               10.0   \n",
       "318436         Q                  D        3.0      91081                8.0   \n",
       "318437         Q                  C        2.0      21641                8.0   \n",
       "\n",
       "       Type of Admission Severity of Illness  Visitors with Patient    Age  \\\n",
       "0              Emergency             Extreme                      2  51-60   \n",
       "1                 Trauma             Extreme                      2  51-60   \n",
       "2                 Trauma             Extreme                      2  51-60   \n",
       "3                 Trauma             Extreme                      2  51-60   \n",
       "4                 Trauma             Extreme                      2  51-60   \n",
       "...                  ...                 ...                    ...    ...   \n",
       "318433         Emergency            Moderate                      3  41-50   \n",
       "318434            Urgent            Moderate                      4  81-90   \n",
       "318435         Emergency               Minor                      3  71-80   \n",
       "318436            Trauma               Minor                      5  11-20   \n",
       "318437         Emergency               Minor                      2  11-20   \n",
       "\n",
       "        Admission_Deposit   Stay  \n",
       "0                  4911.0   0-10  \n",
       "1                  5954.0  41-50  \n",
       "2                  4745.0  31-40  \n",
       "3                  7272.0  41-50  \n",
       "4                  5558.0  41-50  \n",
       "...                   ...    ...  \n",
       "318433             4144.0  11-20  \n",
       "318434             6699.0  31-40  \n",
       "318435             4235.0  11-20  \n",
       "318436             3761.0  11-20  \n",
       "318437             4752.0   0-10  \n",
       "\n",
       "[318438 rows x 18 columns]"
      ]
     },
     "execution_count": 81,
     "metadata": {},
     "output_type": "execute_result"
    }
   ],
   "source": [
    "data_dummies=pd.read_csv('train_data.csv')\n",
    "data_dummies"
   ]
  },
  {
   "cell_type": "code",
   "execution_count": 92,
   "metadata": {
    "execution": {
     "iopub.execute_input": "2022-02-25T15:21:38.572220Z",
     "iopub.status.busy": "2022-02-25T15:21:38.572220Z",
     "iopub.status.idle": "2022-02-25T15:21:39.180057Z",
     "shell.execute_reply": "2022-02-25T15:21:39.180057Z",
     "shell.execute_reply.started": "2022-02-25T15:21:38.572220Z"
    }
   },
   "outputs": [],
   "source": [
    "data_dummies['Bed Grade'].fillna(statistics.mode(data_dummies['Bed Grade']),inplace=True)\n",
    "data_dummies['City_Code_Patient'].fillna(statistics.mode(data_dummies['City_Code_Patient']),inplace=True)"
   ]
  },
  {
   "cell_type": "code",
   "execution_count": 95,
   "metadata": {
    "execution": {
     "iopub.execute_input": "2022-02-25T15:21:57.081128Z",
     "iopub.status.busy": "2022-02-25T15:21:57.080131Z",
     "iopub.status.idle": "2022-02-25T15:21:57.090103Z",
     "shell.execute_reply": "2022-02-25T15:21:57.089106Z",
     "shell.execute_reply.started": "2022-02-25T15:21:57.081128Z"
    },
    "tags": []
   },
   "outputs": [],
   "source": [
    "stay_dict = {'0-10': 0, '11-20': 0, '21-30': 1, '31-40': 1, '41-50': 1, '51-60': 1, '61-70': 1, '71-80': 1, '81-90': 1, '91-100': 1, 'More than 100 Days': 1}"
   ]
  },
  {
   "cell_type": "code",
   "execution_count": 96,
   "metadata": {
    "execution": {
     "iopub.execute_input": "2022-02-25T15:21:57.316283Z",
     "iopub.status.busy": "2022-02-25T15:21:57.316283Z",
     "iopub.status.idle": "2022-02-25T15:21:57.341216Z",
     "shell.execute_reply": "2022-02-25T15:21:57.339220Z",
     "shell.execute_reply.started": "2022-02-25T15:21:57.316283Z"
    },
    "tags": []
   },
   "outputs": [],
   "source": [
    "data_dummies['Stay'] = data_dummies['Stay'].replace(stay_dict.keys(), stay_dict.values())"
   ]
  },
  {
   "cell_type": "code",
   "execution_count": 109,
   "metadata": {
    "execution": {
     "iopub.execute_input": "2022-02-25T15:43:52.900671Z",
     "iopub.status.busy": "2022-02-25T15:43:52.899673Z",
     "iopub.status.idle": "2022-02-25T15:43:52.959512Z",
     "shell.execute_reply": "2022-02-25T15:43:52.956521Z",
     "shell.execute_reply.started": "2022-02-25T15:43:52.900671Z"
    },
    "tags": []
   },
   "outputs": [
    {
     "data": {
      "text/html": [
       "<div>\n",
       "<style scoped>\n",
       "    .dataframe tbody tr th:only-of-type {\n",
       "        vertical-align: middle;\n",
       "    }\n",
       "\n",
       "    .dataframe tbody tr th {\n",
       "        vertical-align: top;\n",
       "    }\n",
       "\n",
       "    .dataframe thead th {\n",
       "        text-align: right;\n",
       "    }\n",
       "</style>\n",
       "<table border=\"1\" class=\"dataframe\">\n",
       "  <thead>\n",
       "    <tr style=\"text-align: right;\">\n",
       "      <th></th>\n",
       "      <th>case_id</th>\n",
       "      <th>Hospital_code</th>\n",
       "      <th>City_Code_Hospital</th>\n",
       "      <th>Available Extra Rooms in Hospital</th>\n",
       "      <th>Bed Grade</th>\n",
       "      <th>patientid</th>\n",
       "      <th>City_Code_Patient</th>\n",
       "      <th>Visitors with Patient</th>\n",
       "      <th>Admission_Deposit</th>\n",
       "      <th>Stay</th>\n",
       "      <th>...</th>\n",
       "      <th>Age_0-10</th>\n",
       "      <th>Age_11-20</th>\n",
       "      <th>Age_21-30</th>\n",
       "      <th>Age_31-40</th>\n",
       "      <th>Age_41-50</th>\n",
       "      <th>Age_51-60</th>\n",
       "      <th>Age_61-70</th>\n",
       "      <th>Age_71-80</th>\n",
       "      <th>Age_81-90</th>\n",
       "      <th>Age_91-100</th>\n",
       "    </tr>\n",
       "  </thead>\n",
       "  <tbody>\n",
       "    <tr>\n",
       "      <th>0</th>\n",
       "      <td>1</td>\n",
       "      <td>8</td>\n",
       "      <td>3</td>\n",
       "      <td>3</td>\n",
       "      <td>2.0</td>\n",
       "      <td>31397</td>\n",
       "      <td>7.0</td>\n",
       "      <td>2</td>\n",
       "      <td>4911.0</td>\n",
       "      <td>0</td>\n",
       "      <td>...</td>\n",
       "      <td>0</td>\n",
       "      <td>0</td>\n",
       "      <td>0</td>\n",
       "      <td>0</td>\n",
       "      <td>0</td>\n",
       "      <td>1</td>\n",
       "      <td>0</td>\n",
       "      <td>0</td>\n",
       "      <td>0</td>\n",
       "      <td>0</td>\n",
       "    </tr>\n",
       "    <tr>\n",
       "      <th>1</th>\n",
       "      <td>2</td>\n",
       "      <td>2</td>\n",
       "      <td>5</td>\n",
       "      <td>2</td>\n",
       "      <td>2.0</td>\n",
       "      <td>31397</td>\n",
       "      <td>7.0</td>\n",
       "      <td>2</td>\n",
       "      <td>5954.0</td>\n",
       "      <td>1</td>\n",
       "      <td>...</td>\n",
       "      <td>0</td>\n",
       "      <td>0</td>\n",
       "      <td>0</td>\n",
       "      <td>0</td>\n",
       "      <td>0</td>\n",
       "      <td>1</td>\n",
       "      <td>0</td>\n",
       "      <td>0</td>\n",
       "      <td>0</td>\n",
       "      <td>0</td>\n",
       "    </tr>\n",
       "    <tr>\n",
       "      <th>2</th>\n",
       "      <td>3</td>\n",
       "      <td>10</td>\n",
       "      <td>1</td>\n",
       "      <td>2</td>\n",
       "      <td>2.0</td>\n",
       "      <td>31397</td>\n",
       "      <td>7.0</td>\n",
       "      <td>2</td>\n",
       "      <td>4745.0</td>\n",
       "      <td>1</td>\n",
       "      <td>...</td>\n",
       "      <td>0</td>\n",
       "      <td>0</td>\n",
       "      <td>0</td>\n",
       "      <td>0</td>\n",
       "      <td>0</td>\n",
       "      <td>1</td>\n",
       "      <td>0</td>\n",
       "      <td>0</td>\n",
       "      <td>0</td>\n",
       "      <td>0</td>\n",
       "    </tr>\n",
       "    <tr>\n",
       "      <th>3</th>\n",
       "      <td>4</td>\n",
       "      <td>26</td>\n",
       "      <td>2</td>\n",
       "      <td>2</td>\n",
       "      <td>2.0</td>\n",
       "      <td>31397</td>\n",
       "      <td>7.0</td>\n",
       "      <td>2</td>\n",
       "      <td>7272.0</td>\n",
       "      <td>1</td>\n",
       "      <td>...</td>\n",
       "      <td>0</td>\n",
       "      <td>0</td>\n",
       "      <td>0</td>\n",
       "      <td>0</td>\n",
       "      <td>0</td>\n",
       "      <td>1</td>\n",
       "      <td>0</td>\n",
       "      <td>0</td>\n",
       "      <td>0</td>\n",
       "      <td>0</td>\n",
       "    </tr>\n",
       "    <tr>\n",
       "      <th>4</th>\n",
       "      <td>5</td>\n",
       "      <td>26</td>\n",
       "      <td>2</td>\n",
       "      <td>2</td>\n",
       "      <td>2.0</td>\n",
       "      <td>31397</td>\n",
       "      <td>7.0</td>\n",
       "      <td>2</td>\n",
       "      <td>5558.0</td>\n",
       "      <td>1</td>\n",
       "      <td>...</td>\n",
       "      <td>0</td>\n",
       "      <td>0</td>\n",
       "      <td>0</td>\n",
       "      <td>0</td>\n",
       "      <td>0</td>\n",
       "      <td>1</td>\n",
       "      <td>0</td>\n",
       "      <td>0</td>\n",
       "      <td>0</td>\n",
       "      <td>0</td>\n",
       "    </tr>\n",
       "  </tbody>\n",
       "</table>\n",
       "<p>5 rows × 53 columns</p>\n",
       "</div>"
      ],
      "text/plain": [
       "   case_id  Hospital_code  City_Code_Hospital  \\\n",
       "0        1              8                   3   \n",
       "1        2              2                   5   \n",
       "2        3             10                   1   \n",
       "3        4             26                   2   \n",
       "4        5             26                   2   \n",
       "\n",
       "   Available Extra Rooms in Hospital  Bed Grade  patientid  City_Code_Patient  \\\n",
       "0                                  3        2.0      31397                7.0   \n",
       "1                                  2        2.0      31397                7.0   \n",
       "2                                  2        2.0      31397                7.0   \n",
       "3                                  2        2.0      31397                7.0   \n",
       "4                                  2        2.0      31397                7.0   \n",
       "\n",
       "   Visitors with Patient  Admission_Deposit  Stay  ...  Age_0-10  Age_11-20  \\\n",
       "0                      2             4911.0     0  ...         0          0   \n",
       "1                      2             5954.0     1  ...         0          0   \n",
       "2                      2             4745.0     1  ...         0          0   \n",
       "3                      2             7272.0     1  ...         0          0   \n",
       "4                      2             5558.0     1  ...         0          0   \n",
       "\n",
       "   Age_21-30  Age_31-40  Age_41-50  Age_51-60  Age_61-70  Age_71-80  \\\n",
       "0          0          0          0          1          0          0   \n",
       "1          0          0          0          1          0          0   \n",
       "2          0          0          0          1          0          0   \n",
       "3          0          0          0          1          0          0   \n",
       "4          0          0          0          1          0          0   \n",
       "\n",
       "   Age_81-90  Age_91-100  \n",
       "0          0           0  \n",
       "1          0           0  \n",
       "2          0           0  \n",
       "3          0           0  \n",
       "4          0           0  \n",
       "\n",
       "[5 rows x 53 columns]"
      ]
     },
     "execution_count": 109,
     "metadata": {},
     "output_type": "execute_result"
    }
   ],
   "source": [
    "data_dummies=pd.get_dummies(data_dummies)\n",
    "data_dummies.head()"
   ]
  },
  {
   "cell_type": "markdown",
   "metadata": {},
   "source": [
    "### SPLIT THE dummies DATASET"
   ]
  },
  {
   "cell_type": "code",
   "execution_count": 98,
   "metadata": {
    "execution": {
     "iopub.execute_input": "2022-02-25T15:21:57.668347Z",
     "iopub.status.busy": "2022-02-25T15:21:57.668347Z",
     "iopub.status.idle": "2022-02-25T15:21:57.936659Z",
     "shell.execute_reply": "2022-02-25T15:21:57.936659Z",
     "shell.execute_reply.started": "2022-02-25T15:21:57.668347Z"
    },
    "tags": []
   },
   "outputs": [],
   "source": [
    "X_dummies= data_dummies.drop('Stay', axis=1)\n",
    "y_dummies= data_dummies['Stay']\n",
    "\n",
    "X_train_dummies, X_test_dummies, y_train_dummies, y_test_dummies = train_test_split(X_dummies, y_dummies, test_size=0.2, random_state=42, shuffle=True)"
   ]
  },
  {
   "cell_type": "markdown",
   "metadata": {},
   "source": [
    "### we try with RandomForest because is out best choice as we saw before"
   ]
  },
  {
   "cell_type": "code",
   "execution_count": 99,
   "metadata": {
    "execution": {
     "iopub.execute_input": "2022-02-25T15:21:58.638421Z",
     "iopub.status.busy": "2022-02-25T15:21:58.637421Z",
     "iopub.status.idle": "2022-02-25T15:23:29.213209Z",
     "shell.execute_reply": "2022-02-25T15:23:29.212211Z",
     "shell.execute_reply.started": "2022-02-25T15:21:58.638421Z"
    },
    "tags": []
   },
   "outputs": [
    {
     "name": "stdout",
     "output_type": "stream",
     "text": [
      "              precision    recall  f1-score   support\n",
      "\n",
      "           0       0.60      0.39      0.48     20250\n",
      "           1       0.76      0.88      0.81     43438\n",
      "\n",
      "    accuracy                           0.73     63688\n",
      "   macro avg       0.68      0.64      0.64     63688\n",
      "weighted avg       0.71      0.73      0.71     63688\n",
      "\n"
     ]
    },
    {
     "data": {
      "text/plain": [
       "0.6360029262652772"
      ]
     },
     "execution_count": 99,
     "metadata": {},
     "output_type": "execute_result"
    }
   ],
   "source": [
    "# Random Forest\n",
    "random_forest = RandomForestClassifier(n_estimators=100,class_weight='balanced')\n",
    "random_forest.fit(X_train_dummies, y_train_dummies)\n",
    "y_pred_RF_dummies = random_forest.predict(X_test_dummies)\n",
    "print(classification_report(y_test_dummies, y_pred_RF_dummies))\n",
    "balanced_accuracy_score(y_test_dummies, y_pred_RF_dummies)"
   ]
  },
  {
   "cell_type": "markdown",
   "metadata": {},
   "source": [
    "### oversample with smote"
   ]
  },
  {
   "cell_type": "code",
   "execution_count": 100,
   "metadata": {
    "execution": {
     "iopub.execute_input": "2022-02-25T15:24:41.870175Z",
     "iopub.status.busy": "2022-02-25T15:24:41.869177Z",
     "iopub.status.idle": "2022-02-25T15:29:11.058655Z",
     "shell.execute_reply": "2022-02-25T15:29:11.048680Z",
     "shell.execute_reply.started": "2022-02-25T15:24:41.870175Z"
    },
    "tags": []
   },
   "outputs": [],
   "source": [
    "sm = SMOTE(random_state=42)\n",
    "X_train_dummies_smote, y_train_dummies_smote = sm.fit_resample(X_train_dummies, y_train_dummies)"
   ]
  },
  {
   "cell_type": "code",
   "execution_count": 103,
   "metadata": {
    "execution": {
     "iopub.execute_input": "2022-02-25T15:36:35.077259Z",
     "iopub.status.busy": "2022-02-25T15:36:35.077259Z",
     "iopub.status.idle": "2022-02-25T15:38:52.467343Z",
     "shell.execute_reply": "2022-02-25T15:38:52.465814Z",
     "shell.execute_reply.started": "2022-02-25T15:36:35.077259Z"
    },
    "tags": []
   },
   "outputs": [
    {
     "name": "stdout",
     "output_type": "stream",
     "text": [
      "              precision    recall  f1-score   support\n",
      "\n",
      "           0       0.58      0.44      0.50     20250\n",
      "           1       0.77      0.85      0.81     43438\n",
      "\n",
      "    accuracy                           0.72     63688\n",
      "   macro avg       0.67      0.65      0.65     63688\n",
      "weighted avg       0.71      0.72      0.71     63688\n",
      "\n"
     ]
    },
    {
     "data": {
      "text/plain": [
       "0.6463865887466115"
      ]
     },
     "execution_count": 103,
     "metadata": {},
     "output_type": "execute_result"
    }
   ],
   "source": [
    "# Random Forest\n",
    "random_forest = RandomForestClassifier(n_estimators=100,class_weight='balanced')\n",
    "random_forest.fit(X_train_dummies_smote, y_train_dummies_smote)\n",
    "y_pred_RF_dummies_smote = random_forest.predict(X_test_dummies)\n",
    "print(classification_report(y_test_dummies, y_pred_RF_dummies_smote))\n",
    "balanced_accuracy_score(y_test_dummies, y_pred_RF_dummies_smote)"
   ]
  },
  {
   "cell_type": "code",
   "execution_count": 107,
   "metadata": {
    "execution": {
     "iopub.execute_input": "2022-02-25T15:39:52.106451Z",
     "iopub.status.busy": "2022-02-25T15:39:52.106451Z",
     "iopub.status.idle": "2022-02-25T15:39:52.485807Z",
     "shell.execute_reply": "2022-02-25T15:39:52.484810Z",
     "shell.execute_reply.started": "2022-02-25T15:39:52.106451Z"
    },
    "tags": []
   },
   "outputs": [
    {
     "data": {
      "image/png": "[encoded data removed]",
      "text/plain": [
       "<Figure size 432x288 with 1 Axes>"
      ]
     },
     "metadata": {},
     "output_type": "display_data"
    }
   ],
   "source": [
    "fpr, tpr, _ = metrics.roc_curve(y_test_dummies, y_pred_RF_dummies_smote)\n",
    "auc = metrics.roc_auc_score(y_test_dummies, y_pred_RF_dummies_smote)\n",
    "\n",
    "#create ROC curve\n",
    "plt.plot(fpr,tpr,label=\"AUC=\"+str(auc))\n",
    "plt.ylabel('True Positive Rate')\n",
    "plt.xlabel('False Positive Rate')\n",
    "plt.legend(loc=4)\n",
    "plt.show()"
   ]
  },
  {
   "cell_type": "markdown",
   "metadata": {},
   "source": [
    "The more that the curve hugs the top left corner of the plot, the better the model does at classifying the data into categories"
   ]
  },
  {
   "cell_type": "markdown",
   "metadata": {},
   "source": [
    "To quantify this, we can calculate the AUC – area under the curve – which tells us how much of the plot is located under the curve"
   ]
  },
  {
   "cell_type": "markdown",
   "metadata": {},
   "source": [
    "The max is 1 so it is a good model that needs more improvement"
   ]
  },
  {
   "cell_type": "code",
   "execution_count": null,
   "metadata": {},
   "outputs": [],
   "source": []
  }
 ],
 "metadata": {
  "colab": {
   "collapsed_sections": [],
   "name": "PROJECT3.ipynb",
   "provenance": [],
   "toc_visible": true
  },
  "kernelspec": {
   "display_name": "Python 3 (ipykernel)",
   "language": "python",
   "name": "python3"
  },
  "language_info": {
   "codemirror_mode": {
    "name": "ipython",
    "version": 3
   },
   "file_extension": ".py",
   "mimetype": "text/x-python",
   "name": "python",
   "nbconvert_exporter": "python",
   "pygments_lexer": "ipython3",
   "version": "3.9.7"
  }
 },
 "nbformat": 4,
 "nbformat_minor": 4
}
